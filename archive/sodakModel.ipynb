{
 "cells": [
  {
   "cell_type": "code",
   "execution_count": null,
   "metadata": {},
   "outputs": [],
   "source": [
    "# Dependencies and setup (will need more)\n",
    "import numpy as np\n",
    "import os\n",
    "import pandas as pd\n",
    "import warnings\n",
    "warnings.simplefilter(\"ignore\")"
   ]
  },
  {
   "cell_type": "code",
   "execution_count": null,
   "metadata": {},
   "outputs": [],
   "source": [
    "# Read CSV into DataFrame\n",
    "annualData = pd.read_csv(\"resources/annualData.csv\")\n",
    "\n",
    "# Drop the null rows\n",
    "annualData = annualData.dropna()\n",
    "\n",
    "# Display DataFrame\n",
    "annualData"
   ]
  },
  {
   "cell_type": "code",
   "execution_count": null,
   "metadata": {},
   "outputs": [],
   "source": [
    "# Print column names\n",
    "for x in annualData.columns:\n",
    "    print(x)"
   ]
  },
  {
   "cell_type": "markdown",
   "metadata": {},
   "source": [
    "# Multiple Linear Regression (South Dakota)"
   ]
  },
  {
   "cell_type": "code",
   "execution_count": null,
   "metadata": {},
   "outputs": [],
   "source": [
    "# Set features to be used as x values\n",
    "features = annualData[[\"sdVMT\", \"sdGAS\", \"sdPOP\", \"sdDENS\", \"sdBicycle\", \"sdCarpool\", \"sdDrovealone\", \n",
    "                       \"sdPublictransportation\", \"sdTaximotorcycleorother\", \"sdWalked\", \"sdWorkedathome\",\n",
    "                       \"sdLaws\", \"evSHARE\"]]\n",
    "X = features\n",
    "X.head()"
   ]
  },
  {
   "cell_type": "markdown",
   "metadata": {},
   "source": [
    "### Create a Train-Test Split\n",
    "Use sdGHG for the y values."
   ]
  },
  {
   "cell_type": "code",
   "execution_count": null,
   "metadata": {},
   "outputs": [],
   "source": [
    "# Set y values\n",
    "y = annualData[\"sdGHG\"].values.reshape(-1, 1)\n",
    "print(X.shape, y.shape)"
   ]
  },
  {
   "cell_type": "code",
   "execution_count": null,
   "metadata": {},
   "outputs": [],
   "source": [
    "print(y)"
   ]
  },
  {
   "cell_type": "code",
   "execution_count": null,
   "metadata": {},
   "outputs": [],
   "source": [
    "# Dependencies and setup\n",
    "from sklearn.model_selection import train_test_split\n",
    "\n",
    "# Use train-test split to create training and testing data\n",
    "X_train, X_test, y_train, y_test = train_test_split(X, y, random_state = 1)\n",
    "X_train.head()"
   ]
  },
  {
   "cell_type": "markdown",
   "metadata": {},
   "source": [
    "### Pre-Processing\n",
    "Scale the data using the MinMaxScaler and perform some feature selection."
   ]
  },
  {
   "cell_type": "code",
   "execution_count": null,
   "metadata": {},
   "outputs": [],
   "source": [
    "# Dependencies and setup\n",
    "from sklearn.preprocessing import MinMaxScaler\n",
    "\n",
    "# Scale data\n",
    "X_scale = MinMaxScaler().fit(X_train)\n",
    "X_train_scaled = X_scale.transform(X_train)\n",
    "X_test_scaled = X_scale.transform(X_test)"
   ]
  },
  {
   "cell_type": "markdown",
   "metadata": {},
   "source": [
    "### Train the Linear Regression Model"
   ]
  },
  {
   "cell_type": "code",
   "execution_count": null,
   "metadata": {},
   "outputs": [],
   "source": [
    "# Dependencies and setup\n",
    "from sklearn.linear_model import LinearRegression\n",
    "model = LinearRegression()"
   ]
  },
  {
   "cell_type": "code",
   "execution_count": null,
   "metadata": {},
   "outputs": [],
   "source": [
    "# Fit the model to the training data and calculate scores for training and testing data\n",
    "model.fit(X_train_scaled, y_train)\n",
    "training_score = model.score(X_train_scaled, y_train)\n",
    "testing_score = model.score(X_test_scaled, y_test)\n",
    "print(f\"Training Score: {training_score}\")\n",
    "print(f\"Testing Score: {testing_score}\")"
   ]
  },
  {
   "cell_type": "code",
   "execution_count": null,
   "metadata": {},
   "outputs": [],
   "source": [
    "# Display coefficient factors\n",
    "print(model.coef_)"
   ]
  },
  {
   "cell_type": "code",
   "execution_count": null,
   "metadata": {},
   "outputs": [],
   "source": [
    "# Assign numpy array to variable\n",
    "coefs = model.coef_\n",
    "\n",
    "# Assign array values to variables\n",
    "vmt = coefs[0][0]\n",
    "fuel = coefs[0][1]\n",
    "pop = coefs[0][2]\n",
    "dens = coefs[0][3]\n",
    "bike = coefs[0][4]\n",
    "pool = coefs[0][5]\n",
    "solo = coefs[0][6]\n",
    "bus = coefs[0][7]\n",
    "taxi = coefs[0][8]\n",
    "walk = coefs[0][9]\n",
    "wfh = coefs[0][10]\n",
    "laws = coefs[0][11]\n",
    "ev = coefs[0][12]"
   ]
  },
  {
   "cell_type": "code",
   "execution_count": null,
   "metadata": {},
   "outputs": [],
   "source": [
    "# Display results\n",
    "print(f\"Vehicle Miles Traveled: if VMT continues its trend, then annual GHG emissions changes by {vmt * 100:.2f}%.\")\n",
    "print(f\"Fuel Consumption: if fuel consumption continues its trend, then annual GHG emissions changes by {fuel * 100:.2f}%.\")\n",
    "print(f\"Population: if population continues its trend, then annual GHG emissions changes by {pop * 100:.2f}%.\")\n",
    "print(f\"Population Density: if population density continues its trend, then annual GHG emissions changes by {dens * 100:.2f}%.\")\n",
    "print(f\"Bicycles: if bicycle usage continues its trend, then annual GHG emissions changes by {bike * 100:.2f}%.\")\n",
    "print(f\"Car Pools: if car pool ridership continues its trend, then annual GHG emissions changes by {pool * 100:.2f}%.\")\n",
    "print(f\"Drive Alone: if solo drivers continues its trend, then annual GHG emissions changes by {solo * 100:.2f}%.\")\n",
    "print(f\"Public Transportation: if mass transit ridership continues its trend, then annual GHG emissions changes by {bus * 100:.2f}%.\")\n",
    "print(f\"Rideshare: if rideshare continues its trend, then annual GHG emissions changes by {taxi * 100:.2f}%.\")\n",
    "print(f\"Walking: if walkers continues its trend, then annual GHG emissions changes by {walk * 100:.2f}%.\")\n",
    "print(f\"Work From Home: if people working from home continues its trend, then annual GHG emissions changes by {wfh * 100:.2f}%.\")\n",
    "print(f\"Public Initiatives: if lawmaking continues its trend, then annual GHG emissions changes by {laws * 100:.2f}%.\")\n",
    "print(f\"EV Market Share: if EV market share continues its trend, then annual GHG emissions changes by {ev * 100:.2f}%.\")"
   ]
  },
  {
   "cell_type": "markdown",
   "metadata": {},
   "source": [
    "### Hyperparameter Tuning\n",
    "Use GridSearchCV to tune the model's parameters."
   ]
  },
  {
   "cell_type": "code",
   "execution_count": null,
   "metadata": {},
   "outputs": [],
   "source": [
    "# Create the GridSearchCV model\n",
    "from sklearn.model_selection import GridSearchCV\n",
    "param_grid = {\"fit_intercept\": [True, False],\n",
    "              \"normalize\": [True, False],\n",
    "              \"copy_X\": [True, False]}\n",
    "grid = GridSearchCV(model, param_grid, verbose = 3)"
   ]
  },
  {
   "cell_type": "code",
   "execution_count": null,
   "metadata": {},
   "outputs": [],
   "source": [
    "# Fit the model using the grid search estimator\n",
    "grid.fit(X_train_scaled, y_train)"
   ]
  },
  {
   "cell_type": "code",
   "execution_count": null,
   "metadata": {},
   "outputs": [],
   "source": [
    "# List the best parameters and best scores for this dataset\n",
    "print(grid.best_params_)\n",
    "print(grid.best_score_)"
   ]
  },
  {
   "cell_type": "code",
   "execution_count": null,
   "metadata": {},
   "outputs": [],
   "source": [
    "# Make predictions with the hypertuned model\n",
    "predictions = grid.predict(X_test_scaled)\n",
    "print(f\"First 10 Predictions: {predictions[:10]}\")"
   ]
  },
  {
   "cell_type": "code",
   "execution_count": null,
   "metadata": {},
   "outputs": [],
   "source": [
    "# R squared\n",
    "model.score(X_test_scaled, y_test, sample_weight = None)"
   ]
  },
  {
   "cell_type": "code",
   "execution_count": null,
   "metadata": {},
   "outputs": [],
   "source": [
    "# Dependencies and setup\n",
    "from sklearn.metrics import mean_squared_error, mean_absolute_error\n",
    "\n",
    "# MSE\n",
    "y_true = y_test\n",
    "y_pred = predictions\n",
    "mean_squared_error(y_true, y_pred)"
   ]
  },
  {
   "cell_type": "code",
   "execution_count": null,
   "metadata": {},
   "outputs": [],
   "source": [
    "# MAE\n",
    "mean_absolute_error(y_true, y_pred)"
   ]
  },
  {
   "cell_type": "code",
   "execution_count": null,
   "metadata": {},
   "outputs": [],
   "source": [
    "# RMSE\n",
    "np.sqrt(mean_squared_error(y_true, y_pred))"
   ]
  },
  {
   "cell_type": "code",
   "execution_count": null,
   "metadata": {},
   "outputs": [],
   "source": []
  }
 ],
 "metadata": {
  "kernelspec": {
   "display_name": "Python 3",
   "language": "python",
   "name": "python3"
  },
  "language_info": {
   "codemirror_mode": {
    "name": "ipython",
    "version": 3
   },
   "file_extension": ".py",
   "mimetype": "text/x-python",
   "name": "python",
   "nbconvert_exporter": "python",
   "pygments_lexer": "ipython3",
   "version": "3.6.10"
  }
 },
 "nbformat": 4,
 "nbformat_minor": 4
}
