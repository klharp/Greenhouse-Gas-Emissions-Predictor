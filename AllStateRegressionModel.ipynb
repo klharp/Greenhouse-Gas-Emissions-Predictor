{
 "cells": [
  {
   "cell_type": "code",
   "execution_count": null,
   "metadata": {},
   "outputs": [],
   "source": [
    "# Dependencies and setup\n",
    "import numpy as np\n",
    "import os\n",
    "import pandas as pd\n",
    "import warnings\n",
    "import seaborn as sn\n",
    "import matplotlib.pyplot as plt\n",
    "warnings.simplefilter(\"ignore\")"
   ]
  },
  {
   "cell_type": "code",
   "execution_count": null,
   "metadata": {},
   "outputs": [],
   "source": [
    "# Read CSV into DataFrame\n",
    "annualData = pd.read_csv(\"resources/annualAllStateData.csv\")\n",
    "\n",
    "# Drop the null rows\n",
    "annualData = annualData.dropna()\n",
    "\n",
    "# Display DataFrame\n",
    "annualData"
   ]
  },
  {
   "cell_type": "code",
   "execution_count": null,
   "metadata": {},
   "outputs": [],
   "source": [
    "# Drop row with United States totals data\n",
    "annualData = annualData.loc[annualData['State'] != 'United States']"
   ]
  },
  {
   "cell_type": "markdown",
   "metadata": {},
   "source": [
    "# Feature Selection"
   ]
  },
  {
   "cell_type": "code",
   "execution_count": null,
   "metadata": {},
   "outputs": [],
   "source": [
    "# Set features to be used as x values\n",
    "features = annualData.drop(columns=['Transportation (MtCO2e)','State', 'Year'])\n",
    "X = features\n",
    "X.head()"
   ]
  },
  {
   "cell_type": "code",
   "execution_count": null,
   "metadata": {},
   "outputs": [],
   "source": [
    "# Develop correlation matrix\n",
    "X.corr()\n",
    "corrMatrix = X.corr()\n",
    "\n",
    "# Show result of correlation matrix\n",
    "plt.figure(figsize=(25,25))\n",
    "\n",
    "sn.heatmap(corrMatrix, annot=True)\n",
    "\n",
    "plt.savefig(\"Resources/mnCorr.png\")\n",
    "\n",
    "plt.show()"
   ]
  },
  {
   "cell_type": "code",
   "execution_count": null,
   "metadata": {},
   "outputs": [],
   "source": [
    "# Re-set features to be used as x values, given above correlation\n",
    "features = annualData.drop(columns=['Transportation (MtCO2e)','State', 'Highway use of gasoline (thousand gallons)', 'Vehicles', 'Year'])\n",
    "X = features\n",
    "X.head()"
   ]
  },
  {
   "cell_type": "code",
   "execution_count": null,
   "metadata": {},
   "outputs": [],
   "source": [
    "# Re-develop correlation matrix with new features\n",
    "X.corr()\n",
    "corrMatrix = X.corr()\n",
    "\n",
    "# Show result of correlation matrix\n",
    "plt.figure(figsize=(25,25))\n",
    "\n",
    "sn.heatmap(corrMatrix, annot=True)\n",
    "\n",
    "plt.savefig(\"Resources/mnCorr.png\")\n",
    "\n",
    "plt.show()"
   ]
  },
  {
   "cell_type": "markdown",
   "metadata": {},
   "source": [
    "# Multiple Linear Regression Model"
   ]
  },
  {
   "cell_type": "markdown",
   "metadata": {},
   "source": [
    "### Create a Train-Test Split\n",
    "Use Transportation (MtCO2e) for the y values."
   ]
  },
  {
   "cell_type": "code",
   "execution_count": null,
   "metadata": {},
   "outputs": [],
   "source": [
    "# Set y values\n",
    "y = annualData['Transportation (MtCO2e)'].values.reshape(-1, 1)\n",
    "print(X.shape, y.shape)"
   ]
  },
  {
   "cell_type": "code",
   "execution_count": null,
   "metadata": {},
   "outputs": [],
   "source": [
    "# Display values\n",
    "print(y)"
   ]
  },
  {
   "cell_type": "code",
   "execution_count": null,
   "metadata": {},
   "outputs": [],
   "source": [
    "# Dependencies and setup\n",
    "from sklearn.model_selection import train_test_split\n",
    "\n",
    "# Use train-test split to create training and testing data\n",
    "X_train, X_test, y_train, y_test = train_test_split(X, y, random_state = 42)\n",
    "X_train.head()"
   ]
  },
  {
   "cell_type": "markdown",
   "metadata": {},
   "source": [
    "### Pre-Processing\n",
    "Scale the data using the StandardScaler and perform some feature selection."
   ]
  },
  {
   "cell_type": "code",
   "execution_count": null,
   "metadata": {},
   "outputs": [],
   "source": [
    "# Dependencies and setup\n",
    "from sklearn.preprocessing import StandardScaler\n",
    "\n",
    "# Scale data\n",
    "X_scale = StandardScaler().fit(X_train)\n",
    "X_train_scaled = X_scale.transform(X_train)\n",
    "X_test_scaled = X_scale.transform(X_test)"
   ]
  },
  {
   "cell_type": "code",
   "execution_count": null,
   "metadata": {},
   "outputs": [],
   "source": [
    "# Display array of scaled values\n",
    "X_train_scaled"
   ]
  },
  {
   "cell_type": "markdown",
   "metadata": {},
   "source": [
    "### Train the Multiple Linear Regression Model"
   ]
  },
  {
   "cell_type": "code",
   "execution_count": null,
   "metadata": {},
   "outputs": [],
   "source": [
    "# Dependencies and setup\n",
    "from sklearn.linear_model import LinearRegression\n",
    "model = LinearRegression()"
   ]
  },
  {
   "cell_type": "code",
   "execution_count": null,
   "metadata": {},
   "outputs": [],
   "source": [
    "# Fit the model to the training data and calculate scores for training and testing data\n",
    "model.fit(X_train_scaled, y_train)\n",
    "training_score = model.score(X_train_scaled, y_train)\n",
    "testing_score = model.score(X_test_scaled, y_test)\n",
    "print(f\"Training Score: {training_score}\")\n",
    "print(f\"Testing Score: {testing_score}\")"
   ]
  },
  {
   "cell_type": "markdown",
   "metadata": {},
   "source": [
    "### Coefficients (Independent Values)"
   ]
  },
  {
   "cell_type": "code",
   "execution_count": null,
   "metadata": {},
   "outputs": [],
   "source": [
    "# Display coefficient factors\n",
    "print(model.coef_)"
   ]
  },
  {
   "cell_type": "code",
   "execution_count": null,
   "metadata": {},
   "outputs": [],
   "source": [
    "# Display full amount (not rounded)\n",
    "model.coef_[0][0]"
   ]
  },
  {
   "cell_type": "code",
   "execution_count": null,
   "metadata": {},
   "outputs": [],
   "source": [
    "# Display intercept\n",
    "print(model.intercept_)"
   ]
  },
  {
   "cell_type": "code",
   "execution_count": null,
   "metadata": {},
   "outputs": [],
   "source": [
    "# Generate equation\n",
    "print(\"The linear equation is: Y = {:.5} + {:.5}*GDP + {:.5}*Population + {:.5}*Transit + {:.5}*VMT + {:.5}*SQMI + {:.5}*Temp\".format(model.intercept_[0], model.coef_[0][0], model.coef_[0][1], model.coef_[0][2], model.coef_[0][3], model.coef_[0][4], model.coef_[0][5]))"
   ]
  },
  {
   "cell_type": "code",
   "execution_count": null,
   "metadata": {},
   "outputs": [],
   "source": [
    "# Define function to predict GHG values\n",
    "def make_prediction(GDP, population, transit, VMT, SQMI, temperature, coefs, intercept):\n",
    "\n",
    "    GHG = coefs[0][0] * GDP + coefs[0][1] * population + coefs[0][2] * transit + coefs[0][3] * VMT + coefs[0][4] * SQMI \\\n",
    "          + coefs[0][5] * temperature + intercept[0]\n",
    "        \n",
    "    return GHG"
   ]
  },
  {
   "cell_type": "code",
   "execution_count": null,
   "metadata": {},
   "outputs": [],
   "source": [
    "# Display prediction\n",
    "row = 0\n",
    "GDP_param = X_test_scaled[row][0]\n",
    "population_param = X_test_scaled[row][1]\n",
    "transit_param = X_test_scaled[row][2]\n",
    "VMT_param = X_test_scaled[row][3]\n",
    "SQMI_param = X_test_scaled[row][4]\n",
    "temperature_param = X_test_scaled[row][5]\n",
    "\n",
    "make_prediction(GDP_param, population_param, transit_param, VMT_param, SQMI_param, temperature_param, model.coef_, model.intercept_)"
   ]
  },
  {
   "cell_type": "markdown",
   "metadata": {},
   "source": [
    "### Model Accuracy Tests"
   ]
  },
  {
   "cell_type": "code",
   "execution_count": null,
   "metadata": {},
   "outputs": [],
   "source": [
    "# R squared\n",
    "model.score(X_test_scaled, y_test, sample_weight = None)"
   ]
  },
  {
   "cell_type": "code",
   "execution_count": null,
   "metadata": {},
   "outputs": [],
   "source": [
    "# Make predictions\n",
    "predictions = model.predict(X_test_scaled)\n",
    "predictions[:10]"
   ]
  },
  {
   "cell_type": "code",
   "execution_count": null,
   "metadata": {},
   "outputs": [],
   "source": [
    "# Display y test array of values\n",
    "y_test[:10]"
   ]
  },
  {
   "cell_type": "code",
   "execution_count": null,
   "metadata": {},
   "outputs": [],
   "source": [
    "# Dependencies and setup\n",
    "from sklearn.metrics import mean_squared_error, mean_absolute_error\n",
    "\n",
    "# Calculate and display Mean Square Error\n",
    "y_true = y_test\n",
    "y_pred = predictions\n",
    "mean_squared_error(y_true, y_pred)"
   ]
  },
  {
   "cell_type": "code",
   "execution_count": null,
   "metadata": {},
   "outputs": [],
   "source": [
    "# Calculate and display Mean Absolute Error\n",
    "mean_absolute_error(y_true, y_pred)"
   ]
  },
  {
   "cell_type": "code",
   "execution_count": null,
   "metadata": {},
   "outputs": [],
   "source": [
    "# Calculate and display Root Mean Square Error\n",
    "np.sqrt(mean_squared_error(y_true, y_pred))"
   ]
  },
  {
   "cell_type": "markdown",
   "metadata": {},
   "source": [
    "# Forecasting Selected Features"
   ]
  },
  {
   "cell_type": "code",
   "execution_count": null,
   "metadata": {},
   "outputs": [],
   "source": [
    "# Read CSV into DataFrame\n",
    "annualData = pd.read_csv(\"resources/annualAllStateData.csv\")\n",
    "\n",
    "# Display DataFrame\n",
    "annualData"
   ]
  },
  {
   "cell_type": "markdown",
   "metadata": {},
   "source": [
    "### GDP"
   ]
  },
  {
   "cell_type": "code",
   "execution_count": null,
   "metadata": {},
   "outputs": [],
   "source": [
    "# Use pandas pivot function to shift annual values onto single row\n",
    "GDP = annualData.pivot(index = \"Year\", columns = \"State\", values = \"State GDP (Million US$ (chained 1997/2005))\")\n",
    "\n",
    "# Display DataFrame\n",
    "GDP.head()"
   ]
  },
  {
   "cell_type": "code",
   "execution_count": null,
   "metadata": {},
   "outputs": [],
   "source": [
    "# Convert index to its own column\n",
    "GDP[\"Year\"] = GDP.index\n",
    "\n",
    "# Display DataFrame\n",
    "GDP.head()"
   ]
  },
  {
   "cell_type": "code",
   "execution_count": null,
   "metadata": {},
   "outputs": [],
   "source": [
    "# Create new DataFrame with only desired columns\n",
    "gdpData = GDP[[\"Year\", \"United States\"]].copy()\n",
    "\n",
    "# Display DataFrame\n",
    "gdpData.head()"
   ]
  },
  {
   "cell_type": "code",
   "execution_count": null,
   "metadata": {},
   "outputs": [],
   "source": [
    "# Reset index in place\n",
    "gdpData.reset_index(inplace = True, drop = True)\n",
    "\n",
    "# Display DataFrame\n",
    "gdpData.head()"
   ]
  },
  {
   "cell_type": "code",
   "execution_count": null,
   "metadata": {},
   "outputs": [],
   "source": [
    "# Drop index label\n",
    "gdpData.columns.name = None\n",
    "\n",
    "# Display DataFrame\n",
    "gdpData.head()"
   ]
  },
  {
   "cell_type": "code",
   "execution_count": null,
   "metadata": {},
   "outputs": [],
   "source": [
    "# Rename column\n",
    "gdpData = gdpData.rename(columns = {\"United States\":\"GDP\"})\n",
    "\n",
    "# Display DataFrame\n",
    "gdpData"
   ]
  },
  {
   "cell_type": "markdown",
   "metadata": {},
   "source": [
    "### Population"
   ]
  },
  {
   "cell_type": "code",
   "execution_count": null,
   "metadata": {},
   "outputs": [],
   "source": [
    "# Use pandas pivot function to shift annual values onto single row\n",
    "pop = annualData.pivot(index = \"Year\", columns = \"State\", values = \"Population (People)\")\n",
    "\n",
    "# Display DataFrame\n",
    "pop.head()"
   ]
  },
  {
   "cell_type": "code",
   "execution_count": null,
   "metadata": {},
   "outputs": [],
   "source": [
    "# Convert index to its own column\n",
    "pop[\"Year\"] = pop.index\n",
    "\n",
    "# Display DataFrame\n",
    "pop.head()"
   ]
  },
  {
   "cell_type": "code",
   "execution_count": null,
   "metadata": {},
   "outputs": [],
   "source": [
    "# Create new DataFrame with only desired columns\n",
    "popData = pop[[\"Year\", \"United States\"]].copy()\n",
    "\n",
    "# Display DataFrame\n",
    "popData.head()"
   ]
  },
  {
   "cell_type": "code",
   "execution_count": null,
   "metadata": {},
   "outputs": [],
   "source": [
    "# Reset index in place\n",
    "popData.reset_index(inplace = True, drop = True)\n",
    "\n",
    "# Display DataFrame\n",
    "popData.head()"
   ]
  },
  {
   "cell_type": "code",
   "execution_count": null,
   "metadata": {},
   "outputs": [],
   "source": [
    "# Drop index label\n",
    "popData.columns.name = None\n",
    "\n",
    "# Display DataFrame\n",
    "popData.head()"
   ]
  },
  {
   "cell_type": "code",
   "execution_count": null,
   "metadata": {},
   "outputs": [],
   "source": [
    "# Rename column\n",
    "popData = popData.rename(columns = {\"United States\":\"Population\"})\n",
    "\n",
    "# Display DataFrame\n",
    "popData"
   ]
  },
  {
   "cell_type": "markdown",
   "metadata": {},
   "source": [
    "### Mass Transit Ridership"
   ]
  },
  {
   "cell_type": "code",
   "execution_count": null,
   "metadata": {},
   "outputs": [],
   "source": [
    "# Use pandas pivot function to shift annual values onto single row\n",
    "bus = annualData.pivot(index = \"Year\", columns = \"State\", values = \"Transit Ridership\")\n",
    "\n",
    "# Display DataFrame\n",
    "bus.head()"
   ]
  },
  {
   "cell_type": "code",
   "execution_count": null,
   "metadata": {},
   "outputs": [],
   "source": [
    "# Convert index to its own column\n",
    "bus[\"Year\"] = bus.index\n",
    "\n",
    "# Display DataFrame\n",
    "bus.head()"
   ]
  },
  {
   "cell_type": "code",
   "execution_count": null,
   "metadata": {},
   "outputs": [],
   "source": [
    "# Create new DataFrame with only desired columns\n",
    "busData = bus[[\"Year\", \"United States\"]].copy()\n",
    "\n",
    "# Display DataFrame\n",
    "busData.head()"
   ]
  },
  {
   "cell_type": "code",
   "execution_count": null,
   "metadata": {},
   "outputs": [],
   "source": [
    "# Reset index in place\n",
    "busData.reset_index(inplace = True, drop = True)\n",
    "\n",
    "# Display DataFrame\n",
    "busData.head()"
   ]
  },
  {
   "cell_type": "code",
   "execution_count": null,
   "metadata": {},
   "outputs": [],
   "source": [
    "# Drop index label\n",
    "busData.columns.name = None\n",
    "\n",
    "# Display DataFrame\n",
    "busData.head()"
   ]
  },
  {
   "cell_type": "code",
   "execution_count": null,
   "metadata": {},
   "outputs": [],
   "source": [
    "# Rename column\n",
    "busData = busData.rename(columns = {\"United States\":\"transitRiders\"})\n",
    "\n",
    "# Display DataFrame\n",
    "busData"
   ]
  },
  {
   "cell_type": "markdown",
   "metadata": {},
   "source": [
    "### Vehicle Miles Traveled"
   ]
  },
  {
   "cell_type": "code",
   "execution_count": null,
   "metadata": {},
   "outputs": [],
   "source": [
    "# Use pandas pivot function to shift annual values onto single row\n",
    "vmt = annualData.pivot(index = \"Year\", columns = \"State\", values = \"Highway vehicle-miles traveled (millions)\")\n",
    "\n",
    "# Display DataFrame\n",
    "vmt.head()"
   ]
  },
  {
   "cell_type": "code",
   "execution_count": null,
   "metadata": {},
   "outputs": [],
   "source": [
    "# Convert index to its own column\n",
    "vmt[\"Year\"] = vmt.index\n",
    "\n",
    "# Display DataFrame\n",
    "vmt.head()"
   ]
  },
  {
   "cell_type": "code",
   "execution_count": null,
   "metadata": {},
   "outputs": [],
   "source": [
    "# Create new DataFrame with only desired columns\n",
    "vmtData = vmt[[\"Year\", \"United States\"]].copy()\n",
    "\n",
    "# Display DataFrame\n",
    "vmtData.head()"
   ]
  },
  {
   "cell_type": "code",
   "execution_count": null,
   "metadata": {},
   "outputs": [],
   "source": [
    "# Reset index in place\n",
    "vmtData.reset_index(inplace = True, drop = True)\n",
    "\n",
    "# Display DataFrame\n",
    "vmtData.head()"
   ]
  },
  {
   "cell_type": "code",
   "execution_count": null,
   "metadata": {},
   "outputs": [],
   "source": [
    "# Drop index label\n",
    "vmtData.columns.name = None\n",
    "\n",
    "# Display DataFrame\n",
    "vmtData.head()"
   ]
  },
  {
   "cell_type": "code",
   "execution_count": null,
   "metadata": {},
   "outputs": [],
   "source": [
    "# Rename column\n",
    "vmtData = vmtData.rename(columns = {\"United States\":\"VMT\"})\n",
    "\n",
    "# Display DataFrame\n",
    "vmtData"
   ]
  },
  {
   "cell_type": "markdown",
   "metadata": {},
   "source": [
    "### Landmass Area"
   ]
  },
  {
   "cell_type": "code",
   "execution_count": null,
   "metadata": {},
   "outputs": [],
   "source": [
    "# Use pandas pivot function to shift annual values onto single row\n",
    "sqmi = annualData.pivot(index = \"Year\", columns = \"State\", values = \"sq mi\")\n",
    "\n",
    "# Display DataFrame\n",
    "sqmi.head()"
   ]
  },
  {
   "cell_type": "code",
   "execution_count": null,
   "metadata": {},
   "outputs": [],
   "source": [
    "# Convert index to its own column\n",
    "sqmi[\"Year\"] = sqmi.index\n",
    "\n",
    "# Display DataFrame\n",
    "sqmi.head()"
   ]
  },
  {
   "cell_type": "code",
   "execution_count": null,
   "metadata": {},
   "outputs": [],
   "source": [
    "# Create new DataFrame with only desired columns\n",
    "sqmiData = sqmi[[\"Year\", \"United States\"]].copy()\n",
    "\n",
    "# Display DataFrame\n",
    "sqmiData.head()"
   ]
  },
  {
   "cell_type": "code",
   "execution_count": null,
   "metadata": {},
   "outputs": [],
   "source": [
    "# Reset index in place\n",
    "sqmiData.reset_index(inplace = True, drop = True)\n",
    "\n",
    "# Display DataFrame\n",
    "sqmiData.head()"
   ]
  },
  {
   "cell_type": "code",
   "execution_count": null,
   "metadata": {},
   "outputs": [],
   "source": [
    "# Drop index label\n",
    "sqmiData.columns.name = None\n",
    "\n",
    "# Display DataFrame\n",
    "sqmiData.head()"
   ]
  },
  {
   "cell_type": "code",
   "execution_count": null,
   "metadata": {},
   "outputs": [],
   "source": [
    "# Rename column\n",
    "sqmiData = sqmiData.rename(columns = {\"United States\":\"SQMI\"})\n",
    "\n",
    "# Display DataFrame\n",
    "sqmiData"
   ]
  },
  {
   "cell_type": "markdown",
   "metadata": {},
   "source": [
    "### Temperatures"
   ]
  },
  {
   "cell_type": "code",
   "execution_count": null,
   "metadata": {},
   "outputs": [],
   "source": [
    "# Use pandas pivot function to shift annual values onto single row\n",
    "temps = annualData.pivot(index = \"Year\", columns = \"State\", values = \"tempHigh\")\n",
    "\n",
    "# Display DataFrame\n",
    "temps.head()"
   ]
  },
  {
   "cell_type": "code",
   "execution_count": null,
   "metadata": {},
   "outputs": [],
   "source": [
    "# Convert index to its own column\n",
    "temps[\"Year\"] = temps.index\n",
    "\n",
    "# Display DataFrame\n",
    "temps.head()"
   ]
  },
  {
   "cell_type": "code",
   "execution_count": null,
   "metadata": {},
   "outputs": [],
   "source": [
    "# Create new DataFrame with only desired columns\n",
    "tempsData = temps[[\"Year\", \"United States\"]].copy()\n",
    "\n",
    "# Display DataFrame\n",
    "tempsData.head()"
   ]
  },
  {
   "cell_type": "code",
   "execution_count": null,
   "metadata": {},
   "outputs": [],
   "source": [
    "# Reset index in place\n",
    "tempsData.reset_index(inplace = True, drop = True)\n",
    "\n",
    "# Display DataFrame\n",
    "tempsData.head()"
   ]
  },
  {
   "cell_type": "code",
   "execution_count": null,
   "metadata": {},
   "outputs": [],
   "source": [
    "# Drop index label\n",
    "tempsData.columns.name = None\n",
    "\n",
    "# Display DataFrame\n",
    "tempsData.head()"
   ]
  },
  {
   "cell_type": "code",
   "execution_count": null,
   "metadata": {},
   "outputs": [],
   "source": [
    "# Rename column\n",
    "tempsData = tempsData.rename(columns = {\"United States\":\"Temps\"})\n",
    "\n",
    "# Display DataFrame\n",
    "tempsData"
   ]
  },
  {
   "cell_type": "markdown",
   "metadata": {},
   "source": [
    "### GHG Emissions"
   ]
  },
  {
   "cell_type": "code",
   "execution_count": null,
   "metadata": {},
   "outputs": [],
   "source": [
    "# Use pandas pivot function to shift annual values onto single row\n",
    "ghg = annualData.pivot(index = \"Year\", columns = \"State\", values = \"Transportation (MtCO2e)\")\n",
    "\n",
    "# Display DataFrame\n",
    "ghg.head()"
   ]
  },
  {
   "cell_type": "code",
   "execution_count": null,
   "metadata": {},
   "outputs": [],
   "source": [
    "# Convert index to its own column\n",
    "ghg[\"Year\"] = ghg.index\n",
    "\n",
    "# Display DataFrame\n",
    "ghg.head()"
   ]
  },
  {
   "cell_type": "code",
   "execution_count": null,
   "metadata": {},
   "outputs": [],
   "source": [
    "# Create new DataFrame with only desired columns\n",
    "ghgData = ghg[[\"Year\", \"United States\"]].copy()\n",
    "\n",
    "# Display DataFrame\n",
    "ghgData.head()"
   ]
  },
  {
   "cell_type": "code",
   "execution_count": null,
   "metadata": {},
   "outputs": [],
   "source": [
    "# Reset index in place\n",
    "ghgData.reset_index(inplace = True, drop = True)\n",
    "\n",
    "# Display DataFrame\n",
    "ghgData.head()"
   ]
  },
  {
   "cell_type": "code",
   "execution_count": null,
   "metadata": {},
   "outputs": [],
   "source": [
    "# Drop index label\n",
    "ghgData.columns.name = None\n",
    "\n",
    "# Display DataFrame\n",
    "ghgData.head()"
   ]
  },
  {
   "cell_type": "code",
   "execution_count": null,
   "metadata": {},
   "outputs": [],
   "source": [
    "# Rename column\n",
    "ghgData = ghgData.rename(columns = {\"United States\":\"Emissions\"})\n",
    "\n",
    "# Display DataFrame\n",
    "ghgData"
   ]
  },
  {
   "cell_type": "markdown",
   "metadata": {},
   "source": [
    "### Merge all DataFrames"
   ]
  },
  {
   "cell_type": "code",
   "execution_count": null,
   "metadata": {},
   "outputs": [],
   "source": [
    "# Merge DataFrames\n",
    "trendData = pd.merge(gdpData, popData, how = \"left\", left_on = \"Year\", right_on = \"Year\")\n",
    "\n",
    "# Display DataFrame\n",
    "trendData.head()"
   ]
  },
  {
   "cell_type": "code",
   "execution_count": null,
   "metadata": {},
   "outputs": [],
   "source": [
    "# Merge DataFrames\n",
    "trendData = trendData.merge(busData, how = \"left\", left_on = \"Year\", right_on = \"Year\")\n",
    "\n",
    "# Display DataFrame\n",
    "trendData.head()"
   ]
  },
  {
   "cell_type": "code",
   "execution_count": null,
   "metadata": {},
   "outputs": [],
   "source": [
    "# Merge DataFrames\n",
    "trendData = trendData.merge(vmtData, how = \"left\", left_on = \"Year\", right_on = \"Year\")\n",
    "\n",
    "# Display DataFrame\n",
    "trendData.head()"
   ]
  },
  {
   "cell_type": "code",
   "execution_count": null,
   "metadata": {},
   "outputs": [],
   "source": [
    "# Merge DataFrames\n",
    "trendData = trendData.merge(sqmiData, how = \"left\", left_on = \"Year\", right_on = \"Year\")\n",
    "\n",
    "# Display DataFrame\n",
    "trendData.head()"
   ]
  },
  {
   "cell_type": "code",
   "execution_count": null,
   "metadata": {},
   "outputs": [],
   "source": [
    "# Merge DataFrames\n",
    "trendData = trendData.merge(tempsData, how = \"left\", left_on = \"Year\", right_on = \"Year\")\n",
    "\n",
    "# Display DataFrame\n",
    "trendData.head()"
   ]
  },
  {
   "cell_type": "code",
   "execution_count": null,
   "metadata": {},
   "outputs": [],
   "source": [
    "# Merge DataFrames\n",
    "trendData = trendData.merge(ghgData, how = \"left\", left_on = \"Year\", right_on = \"Year\")\n",
    "\n",
    "# Display DataFrame\n",
    "trendData"
   ]
  },
  {
   "cell_type": "code",
   "execution_count": null,
   "metadata": {},
   "outputs": [],
   "source": [
    "# Rename column\n",
    "trendData = trendData.rename(columns = {\"Emissions\":\"actualGHG\"})\n",
    "\n",
    "# Display DataFrame\n",
    "trendData"
   ]
  },
  {
   "cell_type": "code",
   "execution_count": null,
   "metadata": {},
   "outputs": [],
   "source": [
    "# Export to CSV\n",
    "trendData.to_csv(\"resources/trendData.csv\", index = False, header = True)"
   ]
  },
  {
   "cell_type": "markdown",
   "metadata": {},
   "source": [
    "# Scaling Forecasted Selected Features (X Values)"
   ]
  },
  {
   "cell_type": "code",
   "execution_count": null,
   "metadata": {},
   "outputs": [],
   "source": [
    "# Read forecasted CSV into DataFrame\n",
    "scaledData = pd.read_csv(\"resources/trendDataForecasts.csv\")\n",
    "\n",
    "# Display DataFrame\n",
    "scaledData"
   ]
  },
  {
   "cell_type": "code",
   "execution_count": null,
   "metadata": {},
   "outputs": [],
   "source": [
    "# Declare X values\n",
    "X = scaledData.drop(columns = \"actualGHG\")\n",
    "\n",
    "# Display DataFrame\n",
    "X.head()"
   ]
  },
  {
   "cell_type": "code",
   "execution_count": null,
   "metadata": {},
   "outputs": [],
   "source": [
    "# Set year as index\n",
    "X.set_index(\"Year\", inplace = True, drop = True)\n",
    "\n",
    "# Display DataFrame\n",
    "X.head()"
   ]
  },
  {
   "cell_type": "code",
   "execution_count": null,
   "metadata": {},
   "outputs": [],
   "source": [
    "# Dependencies and setup\n",
    "from sklearn.preprocessing import StandardScaler\n",
    "\n",
    "# Scale actual and forecasted values\n",
    "X_scaled = X_scale.transform(X)"
   ]
  },
  {
   "cell_type": "code",
   "execution_count": null,
   "metadata": {},
   "outputs": [],
   "source": [
    "# Display array of scaled values\n",
    "X_scaled"
   ]
  },
  {
   "cell_type": "code",
   "execution_count": null,
   "metadata": {},
   "outputs": [],
   "source": [
    "# Create DataFrame from array of scaled values\n",
    "scaledValues = pd.DataFrame(data = X_scaled, columns = [\"GDP\", \"Population\", \"Transit\", \"VMT\", \"SQMI\", \"Temps\"])\n",
    "\n",
    "# Display DataFrame\n",
    "scaledValues.head()"
   ]
  },
  {
   "cell_type": "code",
   "execution_count": null,
   "metadata": {},
   "outputs": [],
   "source": [
    "# Create column of predicted GHG using regression equation from model\n",
    "modelGHG = 38.875 + (-1.1205970612499048 * scaledValues[\"GDP\"]) + (36.597160761709446 * scaledValues[\"Population\"]) + (-6.6564653139231 * scaledValues[\"Transit\"]) + (6.304683336038949 * scaledValues[\"VMT\"]) + (4.465561144005419 * scaledValues[\"SQMI\"]) + (3.1101727484010664 * scaledValues[\"Temps\"])\n",
    "\n",
    "# Add new columns\n",
    "scaledValues[\"actualGHG\"] = scaledData[\"actualGHG\"]\n",
    "scaledValues[\"Year\"] = scaledData[\"Year\"]\n",
    "scaledValues[\"modelGHG\"] = modelGHG\n",
    "\n",
    "# Display DataFrame\n",
    "scaledValues.head()"
   ]
  },
  {
   "cell_type": "code",
   "execution_count": null,
   "metadata": {},
   "outputs": [],
   "source": [
    "# Reorganize columns\n",
    "scaledValues = scaledValues[[\"Year\", \"GDP\", \"Population\", \"Transit\", \"VMT\", \"SQMI\", \"Temps\", \"actualGHG\", \"modelGHG\"]]\n",
    "\n",
    "# Display DataFrame\n",
    "scaledValues"
   ]
  },
  {
   "cell_type": "code",
   "execution_count": null,
   "metadata": {},
   "outputs": [],
   "source": [
    "# Create new DataFrame with desired columns\n",
    "scaledFinal = scaledValues[[\"Year\", \"modelGHG\"]].copy()\n",
    "\n",
    "# Display DataFrame\n",
    "scaledFinal.head()"
   ]
  },
  {
   "cell_type": "code",
   "execution_count": null,
   "metadata": {},
   "outputs": [],
   "source": [
    "# Create new DataFrame with desired columns\n",
    "originalDF = trendData[[\"Year\", \"GDP\", \"Population\", \"transitRiders\", \"VMT\", \"SQMI\", \"Temps\", \"actualGHG\"]].copy()\n",
    "\n",
    "# Display DataFrame\n",
    "originalDF.head()"
   ]
  },
  {
   "cell_type": "code",
   "execution_count": null,
   "metadata": {},
   "outputs": [],
   "source": [
    "# Merge DataFrames\n",
    "scaledFinal = scaledFinal.merge(originalDF, how = \"left\", left_on = \"Year\", right_on = \"Year\")\n",
    "\n",
    "# Display DataFrame\n",
    "scaledFinal.head()"
   ]
  },
  {
   "cell_type": "code",
   "execution_count": null,
   "metadata": {},
   "outputs": [],
   "source": [
    "# Reorganize columns\n",
    "scaledFinal = scaledFinal[[\"Year\", \"GDP\", \"Population\", \"transitRiders\", \"VMT\", \"SQMI\", \"Temps\", \"actualGHG\", \"modelGHG\"]]\n",
    "\n",
    "# Display DataFrame\n",
    "scaledFinal"
   ]
  },
  {
   "cell_type": "code",
   "execution_count": null,
   "metadata": {},
   "outputs": [],
   "source": [
    "# Rename column\n",
    "scaledFinal = scaledFinal.rename(columns = {\"transitRiders\":\"Transit\"})\n",
    "\n",
    "# Display DataFrame\n",
    "scaledFinal"
   ]
  },
  {
   "cell_type": "code",
   "execution_count": null,
   "metadata": {},
   "outputs": [],
   "source": [
    "# Export to CSV\n",
    "scaledFinal.to_csv(\"resources/scaledFinal.csv\", index = False, header = True)"
   ]
  },
  {
   "cell_type": "code",
   "execution_count": null,
   "metadata": {},
   "outputs": [],
   "source": []
  }
 ],
 "metadata": {
  "kernelspec": {
   "display_name": "Python 3",
   "language": "python",
   "name": "python3"
  },
  "language_info": {
   "codemirror_mode": {
    "name": "ipython",
    "version": 3
   },
   "file_extension": ".py",
   "mimetype": "text/x-python",
   "name": "python",
   "nbconvert_exporter": "python",
   "pygments_lexer": "ipython3",
   "version": "3.6.10"
  }
 },
 "nbformat": 4,
 "nbformat_minor": 4
}
