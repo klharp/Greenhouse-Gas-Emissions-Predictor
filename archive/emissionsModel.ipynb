{
 "cells": [
  {
   "cell_type": "code",
   "execution_count": null,
   "metadata": {},
   "outputs": [],
   "source": [
    "# Dependencies and setup (will need more)\n",
    "import numpy as np\n",
    "import os\n",
    "import pandas as pd\n",
    "import warnings\n",
    "warnings.simplefilter(\"ignore\")"
   ]
  },
  {
   "cell_type": "code",
   "execution_count": null,
   "metadata": {},
   "outputs": [],
   "source": [
    "# Matt's Code Begins Here"
   ]
  },
  {
   "cell_type": "markdown",
   "metadata": {},
   "source": [
    "# United States EV Market Share (1990-2018)"
   ]
  },
  {
   "cell_type": "code",
   "execution_count": null,
   "metadata": {},
   "outputs": [],
   "source": [
    "# Market share\n",
    "shareURL = \"https://www.anl.gov/es/vision-model\"\n",
    "\n",
    "# This is where the CSV lives locally:\n",
    "shareFilepath = \"data/evMarketShare.csv\"\n",
    "\n",
    "print(f\"{shareFilepath} is {round(os.path.getsize(shareFilepath)/1024/1024, 2)} megabytes (MB).\\nMore info here:\\n{shareURL}\")\n",
    "\n",
    "# Read CSV into DataFrame\n",
    "shareData = pd.read_csv(shareFilepath)\n",
    "\n",
    "# Display DataFrame\n",
    "shareData"
   ]
  },
  {
   "cell_type": "markdown",
   "metadata": {},
   "source": [
    "# Charging Stations by State (as of April 5, 2019)"
   ]
  },
  {
   "cell_type": "code",
   "execution_count": null,
   "metadata": {},
   "outputs": [],
   "source": [
    "# Use the read_html function in pandas to automatically scrape tabular data\n",
    "stationsURL = \"https://evadoption.com/ev-charging-stations-statistics/charging-stations-by-state/\"\n",
    "evStationsTable = pd.read_html(stationsURL)\n",
    "evStationsTable"
   ]
  },
  {
   "cell_type": "code",
   "execution_count": null,
   "metadata": {},
   "outputs": [],
   "source": [
    "# Slice off desired DataFrame using normal indexing\n",
    "evStations_df = evStationsTable[0]\n",
    "\n",
    "# Display DataFrame\n",
    "evStations_df"
   ]
  },
  {
   "cell_type": "code",
   "execution_count": null,
   "metadata": {},
   "outputs": [],
   "source": [
    "# Drop \"median\" row off DataFrame\n",
    "evStations_df.drop(evStations_df.tail(1).index, inplace = True)\n",
    "\n",
    "# Display DataFrame\n",
    "evStations_df.tail()"
   ]
  },
  {
   "cell_type": "code",
   "execution_count": null,
   "metadata": {},
   "outputs": [],
   "source": [
    "# Create new DataFrame filtered on desired states\n",
    "evStations = evStations_df[(evStations_df.State == \"Iowa\") |\n",
    "                           (evStations_df.State == \"Minnesota\") |\n",
    "                           (evStations_df.State == \"North Dakota\") |\n",
    "                           (evStations_df.State == \"South Dakota\") |\n",
    "                           (evStations_df.State == \"Wisconsin\")]\n",
    "\n",
    "# Reset index in place\n",
    "evStations.reset_index(inplace = True, drop = True)\n",
    "\n",
    "# Display DataFrame\n",
    "evStations"
   ]
  },
  {
   "cell_type": "code",
   "execution_count": null,
   "metadata": {},
   "outputs": [],
   "source": [
    "# Export to CSV\n",
    "# evStations.to_csv(\"chargingStations.csv\", index = False, header = True)"
   ]
  },
  {
   "cell_type": "markdown",
   "metadata": {},
   "source": [
    "# Minnesota Vehicle Miles Traveled (1990-2018)"
   ]
  },
  {
   "cell_type": "code",
   "execution_count": null,
   "metadata": {},
   "outputs": [],
   "source": [
    "# Vehicle Miles Traveled\n",
    "mnVMTURL = \"http://www.dot.state.mn.us/roadway/data/data-products.html#VMT\"\n",
    "\n",
    "# This is where the data CSV lives locally:\n",
    "mnVMTFilepath = \"data/minnesotaVMT.csv\"\n",
    "\n",
    "print(f\"{mnVMTFilepath} is {round(os.path.getsize(mnVMTFilepath)/1024/1024, 2)} megabytes (MB).\\nMore info here:\\n{mnVMTURL}\")\n",
    "\n",
    "# Read CSV into DataFrame\n",
    "mnVMTData = pd.read_csv(mnVMTFilepath)\n",
    "\n",
    "# Display DataFrame\n",
    "mnVMTData"
   ]
  },
  {
   "cell_type": "markdown",
   "metadata": {},
   "source": [
    "# Minnesota Total Gasoline All Sales (1990-2018)"
   ]
  },
  {
   "cell_type": "code",
   "execution_count": null,
   "metadata": {},
   "outputs": [],
   "source": [
    "# Total Gasoline\n",
    "mnGasURL = \"https://www.eia.gov/dnav/pet/hist/LeafHandler.ashx?n=PET&s=C100020271&f=A\"\n",
    "\n",
    "# This is where the data CSV lives locally:\n",
    "mnGasFilepath = \"data/mnFuelConsumption.csv\"\n",
    "\n",
    "print(f\"{mnGasFilepath} is {round(os.path.getsize(mnGasFilepath)/1024/1024, 2)} megabytes (MB).\\nMore info here:\\n{mnGasURL}\")\n",
    "\n",
    "# Read CSV into DataFrame\n",
    "mnGasData = pd.read_csv(mnGasFilepath)\n",
    "\n",
    "# Display DataFrame\n",
    "mnGasData"
   ]
  },
  {
   "cell_type": "code",
   "execution_count": null,
   "metadata": {},
   "outputs": [],
   "source": [
    "# Multiply by 1,000 and 365.25 (CSV values are stated in thousand gallons per day)\n",
    "mnGasData[\"MN Gas\"] = (mnGasData[\"MN Gas\"] * 1000) * 365.25\n",
    "\n",
    "# Sort by year\n",
    "mnGasData = mnGasData.sort_values(\"Year\", ascending = False)\n",
    "\n",
    "# Reset index in place\n",
    "mnGasData.reset_index(inplace = True, drop = True)\n",
    "\n",
    "# Display DataFrame\n",
    "mnGasData"
   ]
  },
  {
   "cell_type": "code",
   "execution_count": null,
   "metadata": {},
   "outputs": [],
   "source": [
    "# Merge DataFrames\n",
    "milesGas = pd.merge(mnVMTData, mnGasData, how = \"outer\", left_on = \"Year\", right_on = \"Year\", on = None, sort = False,\n",
    "                    copy = True, indicator = False, validate = None)\n",
    "# Display DataFrame\n",
    "milesGas"
   ]
  },
  {
   "cell_type": "markdown",
   "metadata": {},
   "source": [
    "# Iowa Vehicle Miles Traveled (1990-2018)"
   ]
  },
  {
   "cell_type": "code",
   "execution_count": null,
   "metadata": {},
   "outputs": [],
   "source": [
    "# Vehicle Miles Traveled\n",
    "iaVMTURL = \"https://iowadot.gov/maps/msp/vmt/30yearvmt.pdf\"\n",
    "\n",
    "# This is where the data CSV lives locally:\n",
    "iaVMTFilepath = \"data/iowaVMT.csv\"\n",
    "\n",
    "print(f\"{iaVMTFilepath} is {round(os.path.getsize(iaVMTFilepath)/1024/1024, 2)} megabytes (MB).\\nMore info here:\\n{iaVMTURL}\")\n",
    "\n",
    "# Read CSV into DataFrame\n",
    "iaVMTData = pd.read_csv(iaVMTFilepath)\n",
    "\n",
    "# Display DataFrame\n",
    "iaVMTData"
   ]
  },
  {
   "cell_type": "code",
   "execution_count": null,
   "metadata": {},
   "outputs": [],
   "source": [
    "# Multiply values by 1,000,000\n",
    "iaVMTData[\"IA VMT\"] = iaVMTData[\"IA VMT\"] * 1000000\n",
    "iaVMTData[\"U.S. Total\"] = iaVMTData[\"U.S. Total\"] * 1000000\n",
    "\n",
    "# Sort by year\n",
    "iaVMTData = iaVMTData.sort_values(\"Year\", ascending = False)\n",
    "\n",
    "# Reset index in place\n",
    "iaVMTData.reset_index(inplace = True, drop = True)\n",
    "\n",
    "# Display DataFrame\n",
    "iaVMTData"
   ]
  },
  {
   "cell_type": "code",
   "execution_count": null,
   "metadata": {},
   "outputs": [],
   "source": [
    "# Merge DataFrames\n",
    "milesGas = milesGas.merge(iaVMTData, how = \"left\", left_on = \"Year\", right_on = \"Year\", on = None, sort = False,\n",
    "                          copy = True, indicator = False, validate = None)\n",
    "\n",
    "# Display DataFrame\n",
    "milesGas"
   ]
  },
  {
   "cell_type": "markdown",
   "metadata": {},
   "source": [
    "# Iowa Total Gasoline All Sales (1990-2018)"
   ]
  },
  {
   "cell_type": "code",
   "execution_count": null,
   "metadata": {},
   "outputs": [],
   "source": [
    "# Total Gasoline\n",
    "iaGasURL = \"https://www.eia.gov/dnav/pet/hist/LeafHandler.ashx?n=PET&s=C100020191&f=A\"\n",
    "\n",
    "# This is where the data CSV lives locally:\n",
    "iaGasFilepath = \"data/iaFuelConsumption.csv\"\n",
    "\n",
    "print(f\"{iaGasFilepath} is {round(os.path.getsize(iaGasFilepath)/1024/1024, 2)} megabytes (MB).\\nMore info here:\\n{iaGasURL}\")\n",
    "\n",
    "# Read CSV into DataFrame\n",
    "iaGasData = pd.read_csv(iaGasFilepath)\n",
    "\n",
    "# Display DataFrame\n",
    "iaGasData"
   ]
  },
  {
   "cell_type": "code",
   "execution_count": null,
   "metadata": {},
   "outputs": [],
   "source": [
    "# Multiply by 1,000 and 365.25 (CSV values are stated in thousand gallons per day)\n",
    "iaGasData[\"IA Gas\"] = (iaGasData[\"IA Gas\"] * 1000) * 365.25\n",
    "\n",
    "# Sort by year\n",
    "iaGasData = iaGasData.sort_values(\"Year\", ascending = False)\n",
    "\n",
    "# Reset index in place\n",
    "iaGasData.reset_index(inplace = True, drop = True)\n",
    "\n",
    "# Display DataFrame\n",
    "iaGasData"
   ]
  },
  {
   "cell_type": "code",
   "execution_count": null,
   "metadata": {},
   "outputs": [],
   "source": [
    "# Merge DataFrames\n",
    "milesGas = milesGas.merge(iaGasData, how = \"left\", left_on = \"Year\", right_on = \"Year\", on = None, sort = False,\n",
    "                          copy = True, indicator = False, validate = None)\n",
    "\n",
    "# Display DataFrame\n",
    "milesGas"
   ]
  },
  {
   "cell_type": "markdown",
   "metadata": {},
   "source": [
    "# North Dakota Vehicle Miles Traveled (1990-2018)"
   ]
  },
  {
   "cell_type": "code",
   "execution_count": null,
   "metadata": {},
   "outputs": [],
   "source": [
    "# Vehicle Miles Traveled\n",
    "ndVMTURL = \"https://www.dot.nd.gov/business/docs/trafficreports/Annual-Traffic-Report-2019.pdf\"\n",
    "\n",
    "# This is where the data CSV lives locally:\n",
    "ndVMTFilepath = \"data/northdakotaVMT.csv\"\n",
    "\n",
    "print(f\"{ndVMTFilepath} is {round(os.path.getsize(ndVMTFilepath)/1024/1024, 2)} megabytes (MB).\\nMore info here:\\n{ndVMTURL}\")\n",
    "\n",
    "# Read CSV into DataFrame\n",
    "ndVMTData = pd.read_csv(ndVMTFilepath)\n",
    "\n",
    "# Display DataFrame\n",
    "ndVMTData"
   ]
  },
  {
   "cell_type": "code",
   "execution_count": null,
   "metadata": {},
   "outputs": [],
   "source": [
    "# Multiply values by 1,000,000\n",
    "ndVMTData[\"ND VMT\"] = ndVMTData[\"ND VMT\"] * 1000000\n",
    "\n",
    "# Sort by year\n",
    "ndVMTData = ndVMTData.sort_values(\"Year\", ascending = False)\n",
    "\n",
    "# Reset index in place\n",
    "ndVMTData.reset_index(inplace = True, drop = True)\n",
    "\n",
    "# Display DataFrame\n",
    "ndVMTData"
   ]
  },
  {
   "cell_type": "code",
   "execution_count": null,
   "metadata": {},
   "outputs": [],
   "source": [
    "# Merge DataFrames\n",
    "milesGas = milesGas.merge(ndVMTData, how = \"left\", left_on = \"Year\", right_on = \"Year\", on = None, sort = False,\n",
    "                          copy = True, indicator = False, validate = None)\n",
    "\n",
    "# Display DataFrame\n",
    "milesGas"
   ]
  },
  {
   "cell_type": "markdown",
   "metadata": {},
   "source": [
    "# North Dakota Total Gasoline All Sales (1990-2018)"
   ]
  },
  {
   "cell_type": "code",
   "execution_count": null,
   "metadata": {},
   "outputs": [],
   "source": [
    "# Total Gasoline\n",
    "ndGasURL = \"https://www.eia.gov/dnav/pet/hist/LeafHandler.ashx?n=PET&s=C100020381&f=A\"\n",
    "\n",
    "# This is where the data CSV lives locally:\n",
    "ndGasFilepath = \"data/ndFuelConsumption.csv\"\n",
    "\n",
    "print(f\"{ndGasFilepath} is {round(os.path.getsize(ndGasFilepath)/1024/1024, 2)} megabytes (MB).\\nMore info here:\\n{ndGasURL}\")\n",
    "\n",
    "# Read CSV into DataFrame\n",
    "ndGasData = pd.read_csv(ndGasFilepath)\n",
    "\n",
    "# Display DataFrame\n",
    "ndGasData"
   ]
  },
  {
   "cell_type": "code",
   "execution_count": null,
   "metadata": {},
   "outputs": [],
   "source": [
    "# Multiply by 1,000 and 365.25 (CSV values are stated in thousand gallons per day)\n",
    "ndGasData[\"ND Gas\"] = (ndGasData[\"ND Gas\"] * 1000) * 365.25\n",
    "\n",
    "# Sort by year\n",
    "ndGasData = ndGasData.sort_values(\"Year\", ascending = False)\n",
    "\n",
    "# Reset index in place\n",
    "ndGasData.reset_index(inplace = True, drop = True)\n",
    "\n",
    "# Display DataFrame\n",
    "ndGasData"
   ]
  },
  {
   "cell_type": "code",
   "execution_count": null,
   "metadata": {},
   "outputs": [],
   "source": [
    "# Merge DataFrames\n",
    "milesGas = milesGas.merge(ndGasData, how = \"left\", left_on = \"Year\", right_on = \"Year\", on = None, sort = False,\n",
    "                          copy = True, indicator = False, validate = None)\n",
    "\n",
    "# Display DataFrame\n",
    "milesGas"
   ]
  },
  {
   "cell_type": "markdown",
   "metadata": {},
   "source": [
    "# South Dakota Vehicle Miles Traveled (1990-2018)"
   ]
  },
  {
   "cell_type": "code",
   "execution_count": null,
   "metadata": {},
   "outputs": [],
   "source": [
    "# Vehicle Miles Traveled\n",
    "sdVMTURL = \"https://dot.sd.gov/transportation/highways/traffic\"\n",
    "\n",
    "# This is where the data CSV lives locally:\n",
    "sdVMTFilepath = \"data/southdakotaVMT.csv\"\n",
    "\n",
    "print(f\"{sdVMTFilepath} is {round(os.path.getsize(sdVMTFilepath)/1024/1024, 2)} megabytes (MB).\\nMore info here:\\n{sdVMTURL}\")\n",
    "\n",
    "# Read CSV into DataFrame\n",
    "sdVMTData = pd.read_csv(sdVMTFilepath)\n",
    "\n",
    "# Display DataFrame\n",
    "sdVMTData"
   ]
  },
  {
   "cell_type": "code",
   "execution_count": null,
   "metadata": {},
   "outputs": [],
   "source": [
    "# Drop unnecessary column\n",
    "sdVMTData.drop(columns = [\"Unnamed: 2\"], inplace = True)\n",
    "\n",
    "# Display DataFrame\n",
    "sdVMTData.head()"
   ]
  },
  {
   "cell_type": "code",
   "execution_count": null,
   "metadata": {},
   "outputs": [],
   "source": [
    "# Multiply values by 1,000,000\n",
    "sdVMTData[\"SD VMT\"] = sdVMTData[\"SD VMT\"] * 1000000\n",
    "\n",
    "# Sort by year\n",
    "sdVMTData = sdVMTData.sort_values(\"Year\", ascending = False)\n",
    "\n",
    "# Reset index in place\n",
    "sdVMTData.reset_index(inplace = True, drop = True)\n",
    "\n",
    "# Display DataFrame\n",
    "sdVMTData"
   ]
  },
  {
   "cell_type": "code",
   "execution_count": null,
   "metadata": {},
   "outputs": [],
   "source": [
    "# Merge DataFrames\n",
    "milesGas = milesGas.merge(sdVMTData, how = \"left\", left_on = \"Year\", right_on = \"Year\", on = None, sort = False,\n",
    "                          copy = True, indicator = False, validate = None)\n",
    "\n",
    "# Display DataFrame\n",
    "milesGas"
   ]
  },
  {
   "cell_type": "markdown",
   "metadata": {},
   "source": [
    "# South Dakota Total Gasoline All Sales (1990-2018)"
   ]
  },
  {
   "cell_type": "code",
   "execution_count": null,
   "metadata": {},
   "outputs": [],
   "source": [
    "# Total Gasoline\n",
    "sdGasURL = \"https://www.eia.gov/dnav/pet/hist/LeafHandler.ashx?n=PET&s=C100020461&f=A\"\n",
    "\n",
    "# This is where the data CSV lives locally:\n",
    "sdGasFilepath = \"data/sdFuelConsumption.csv\"\n",
    "\n",
    "print(f\"{sdGasFilepath} is {round(os.path.getsize(sdGasFilepath)/1024/1024, 2)} megabytes (MB).\\nMore info here:\\n{sdGasURL}\")\n",
    "\n",
    "# Read CSV into DataFrame\n",
    "sdGasData = pd.read_csv(sdGasFilepath)\n",
    "\n",
    "# Display DataFrame\n",
    "sdGasData"
   ]
  },
  {
   "cell_type": "code",
   "execution_count": null,
   "metadata": {},
   "outputs": [],
   "source": [
    "# Multiply by 1,000 and 365.25 (CSV values are stated in thousand gallons per day)\n",
    "sdGasData[\"SD Gas\"] = (sdGasData[\"SD Gas\"] * 1000) * 365.25\n",
    "\n",
    "# Sort by year\n",
    "sdGasData = sdGasData.sort_values(\"Year\", ascending = False)\n",
    "\n",
    "# Reset index in place\n",
    "sdGasData.reset_index(inplace = True, drop = True)\n",
    "\n",
    "# Display DataFrame\n",
    "sdGasData"
   ]
  },
  {
   "cell_type": "code",
   "execution_count": null,
   "metadata": {},
   "outputs": [],
   "source": [
    "# Merge DataFrames\n",
    "milesGas = milesGas.merge(sdGasData, how = \"left\", left_on = \"Year\", right_on = \"Year\", on = None, sort = False,\n",
    "                          copy = True, indicator = False, validate = None)\n",
    "\n",
    "# Display DataFrame\n",
    "milesGas"
   ]
  },
  {
   "cell_type": "markdown",
   "metadata": {},
   "source": [
    "# Wisconsin Vehicle Miles Traveled (1990-2018)"
   ]
  },
  {
   "cell_type": "code",
   "execution_count": null,
   "metadata": {},
   "outputs": [],
   "source": [
    "# Vehicle Miles Traveled\n",
    "wiVMTURL = \"https://wisconsindot.gov/Documents/projects/data-plan/veh-miles/vmt-hist.pdf\"\n",
    "\n",
    "# This is where the data CSV lives locally:\n",
    "wiVMTFilepath = \"data/wisconsinVMT.csv\"\n",
    "\n",
    "print(f\"{wiVMTFilepath} is {round(os.path.getsize(wiVMTFilepath)/1024/1024, 2)} megabytes (MB).\\nMore info here:\\n{wiVMTURL}\")\n",
    "\n",
    "# Read CSV into DataFrame\n",
    "wiVMTData = pd.read_csv(wiVMTFilepath)\n",
    "\n",
    "# Display DataFrame\n",
    "wiVMTData"
   ]
  },
  {
   "cell_type": "code",
   "execution_count": null,
   "metadata": {},
   "outputs": [],
   "source": [
    "# Multiply values by 1,000,000\n",
    "wiVMTData[\"WI VMT\"] = wiVMTData[\"WI VMT\"] * 1000000\n",
    "\n",
    "# Display DataFrame\n",
    "wiVMTData"
   ]
  },
  {
   "cell_type": "code",
   "execution_count": null,
   "metadata": {},
   "outputs": [],
   "source": [
    "# Merge DataFrames\n",
    "milesGas = milesGas.merge(wiVMTData, how = \"left\", left_on = \"Year\", right_on = \"Year\", on = None, sort = False,\n",
    "                          copy = True, indicator = False, validate = None)\n",
    "\n",
    "# Display DataFrame\n",
    "milesGas"
   ]
  },
  {
   "cell_type": "markdown",
   "metadata": {},
   "source": [
    "# Wisconsin Total Gasoline All Sales (1990-2018)"
   ]
  },
  {
   "cell_type": "code",
   "execution_count": null,
   "metadata": {},
   "outputs": [],
   "source": [
    "# Total Gasoline\n",
    "wiGasURL = \"https://www.eia.gov/dnav/pet/hist/LeafHandler.ashx?n=PET&s=C100020551&f=A\"\n",
    "\n",
    "# This is where the data CSV lives locally:\n",
    "wiGasFilepath = \"data/wiFuelConsumption.csv\"\n",
    "\n",
    "print(f\"{wiGasFilepath} is {round(os.path.getsize(wiGasFilepath)/1024/1024, 2)} megabytes (MB).\\nMore info here:\\n{wiGasURL}\")\n",
    "\n",
    "# Read CSV into DataFrame\n",
    "wiGasData = pd.read_csv(wiGasFilepath)\n",
    "\n",
    "# Display DataFrame\n",
    "wiGasData"
   ]
  },
  {
   "cell_type": "code",
   "execution_count": null,
   "metadata": {},
   "outputs": [],
   "source": [
    "# Multiply by 1,000 and 365.25 (CSV values are stated in thousand gallons per day)\n",
    "wiGasData[\"WI Gas\"] = (wiGasData[\"WI Gas\"] * 1000) * 365.25\n",
    "\n",
    "# Sort by year\n",
    "wiGasData = wiGasData.sort_values(\"Year\", ascending = False)\n",
    "\n",
    "# Reset index in place\n",
    "wiGasData.reset_index(inplace = True, drop = True)\n",
    "\n",
    "# Display DataFrame\n",
    "wiGasData"
   ]
  },
  {
   "cell_type": "code",
   "execution_count": null,
   "metadata": {},
   "outputs": [],
   "source": [
    "# Merge DataFrames\n",
    "milesGas = milesGas.merge(wiGasData, how = \"left\", left_on = \"Year\", right_on = \"Year\", on = None, sort = False,\n",
    "                          copy = True, indicator = False, validate = None)\n",
    "\n",
    "# Display DataFrame\n",
    "milesGas"
   ]
  },
  {
   "cell_type": "code",
   "execution_count": null,
   "metadata": {},
   "outputs": [],
   "source": [
    "# Rearrange columns\n",
    "milesGas = milesGas[[\"Year\", \"U.S. Total\", \"IA VMT\", \"IA Gas\", \"MN VMT\", \"MN Gas\", \"ND VMT\", \"ND Gas\", \"SD VMT\", \"SD Gas\",\n",
    "                     \"WI VMT\", \"WI Gas\"]]\n",
    "\n",
    "# Display DataFrame\n",
    "milesGas.head()"
   ]
  },
  {
   "cell_type": "code",
   "execution_count": null,
   "metadata": {},
   "outputs": [],
   "source": [
    "# Rename columns\n",
    "milesGas = milesGas.rename(columns = {\"U.S. Total\":\"USA VMT\"})\n",
    "\n",
    "# Display DataFrame\n",
    "milesGas.head()"
   ]
  },
  {
   "cell_type": "markdown",
   "metadata": {},
   "source": [
    "# Median Household Incomes by State (1990-2018)"
   ]
  },
  {
   "cell_type": "code",
   "execution_count": null,
   "metadata": {},
   "outputs": [],
   "source": [
    "# Median household income by state\n",
    "incomeURL = \"https://www2.census.gov/programs-surveys/cps/tables/time-series/historical-income-households/h08.xls\"\n",
    "\n",
    "# This is where the data CSV lives locally:\n",
    "incomeFilepath = \"data/medianIncomes.csv\"\n",
    "\n",
    "print(f\"{incomeFilepath} is {round(os.path.getsize(incomeFilepath)/1024/1024, 2)} megabytes (MB).\\nMore info here:\\n{incomeURL}\")\n",
    "\n",
    "# Read CSV into DataFrame\n",
    "medianIncomes = pd.read_csv(incomeFilepath)\n",
    "\n",
    "# Display DataFrame\n",
    "medianIncomes"
   ]
  },
  {
   "cell_type": "code",
   "execution_count": null,
   "metadata": {},
   "outputs": [],
   "source": [
    "# Rename columns\n",
    "medianIncomes = medianIncomes.rename(columns = {\"Iowa\":\"IA Income\", \"Minnesota\":\"MN Income\", \"North Dakota\":\"ND Income\",\n",
    "                                                \"South Dakota\":\"SD Income\", \"Wisconsin\":\"WI Income\"})\n",
    "\n",
    "# Display DataFrame\n",
    "medianIncomes.head()"
   ]
  },
  {
   "cell_type": "markdown",
   "metadata": {},
   "source": [
    "# Estimated Population by State (1990-2018)"
   ]
  },
  {
   "cell_type": "code",
   "execution_count": null,
   "metadata": {},
   "outputs": [],
   "source": [
    "# Estimated populations by state\n",
    "popURL = \"https://www.census.gov/data/tables/time-series/demo/popest/2010s-state-total.html\"\n",
    "\n",
    "# This is where the data CSV lives locally:\n",
    "popFilepath = \"data/statePopulations.csv\"\n",
    "\n",
    "print(f\"{popFilepath} is {round(os.path.getsize(popFilepath)/1024/1024, 2)} megabytes (MB).\\nMore info here:\\n{popURL}\")\n",
    "\n",
    "# Read CSV into DataFrame\n",
    "statePops = pd.read_csv(popFilepath)\n",
    "\n",
    "# Display DataFrame\n",
    "statePops"
   ]
  },
  {
   "cell_type": "code",
   "execution_count": null,
   "metadata": {},
   "outputs": [],
   "source": [
    "# Drop unwanted characters from strings in column names\n",
    "statePops.columns = statePops.columns.str.replace(\".\", \"\")\n",
    "\n",
    "# Display DataFrame\n",
    "statePops"
   ]
  },
  {
   "cell_type": "markdown",
   "metadata": {},
   "source": [
    "# State Landmass in Square Miles"
   ]
  },
  {
   "cell_type": "code",
   "execution_count": null,
   "metadata": {},
   "outputs": [],
   "source": [
    "# State landmasses\n",
    "areaURL = \"https://en.wikipedia.org/wiki/List_of_U.S._states_and_territories_by_area\"\n",
    "\n",
    "# This is where the data CSV lives locally:\n",
    "areaFilepath = \"data/stateArea.csv\"\n",
    "\n",
    "print(f\"{areaFilepath} is {round(os.path.getsize(areaFilepath)/1024/1024, 2)} megabytes (MB).\\nMore info here:\\n{areaURL}\")\n",
    "\n",
    "# Read CSV into DataFrame\n",
    "area = pd.read_csv(areaFilepath)\n",
    "\n",
    "# Display DataFrame\n",
    "area"
   ]
  },
  {
   "cell_type": "code",
   "execution_count": null,
   "metadata": {},
   "outputs": [],
   "source": [
    "# Merge state population and state landmass DataFrames\n",
    "stateCensus = pd.merge(statePops, area, how = \"left\", left_on = \"Year\", right_on = \"Year\", on = None, sort = False,\n",
    "                       copy = True, indicator = False, validate = None)\n",
    "\n",
    "# Display DataFrame\n",
    "stateCensus"
   ]
  },
  {
   "cell_type": "code",
   "execution_count": null,
   "metadata": {},
   "outputs": [],
   "source": [
    "# Rename columns\n",
    "stateCensus = stateCensus.rename(columns = {\"Iowa_x\":\"IA Pop\", \"Minnesota_x\":\"MN Pop\", \"North Dakota_x\":\"ND Pop\",\n",
    "                                            \"South Dakota_x\":\"SD Pop\", \"Wisconsin_x\":\"WI Pop\", \"Iowa_y\":\"IA Area\",\n",
    "                                            \"Minnesota_y\":\"MN Area\", \"North Dakota_y\":\"ND Area\",\n",
    "                                            \"South Dakota_y\":\"SD Area\", \"Wisconsin_y\":\"WI Area\"})\n",
    "\n",
    "# Display DataFrame\n",
    "stateCensus"
   ]
  },
  {
   "cell_type": "code",
   "execution_count": null,
   "metadata": {},
   "outputs": [],
   "source": [
    "# Calculate population densities\n",
    "iowa = stateCensus[\"IA Pop\"] / stateCensus[\"IA Area\"]\n",
    "minnesota = stateCensus[\"MN Pop\"] / stateCensus[\"MN Area\"]\n",
    "northdakota = stateCensus[\"ND Pop\"] / stateCensus[\"ND Area\"]\n",
    "southdakota = stateCensus[\"SD Pop\"] / stateCensus[\"SD Area\"]\n",
    "wisconsin = stateCensus[\"WI Pop\"] / stateCensus[\"WI Area\"]\n",
    "\n",
    "# Add new columns with population densities\n",
    "stateCensus[\"IA Dens\"] = iowa\n",
    "stateCensus[\"MN Dens\"] = minnesota\n",
    "stateCensus[\"ND Dens\"] = northdakota\n",
    "stateCensus[\"SD Dens\"] = southdakota\n",
    "stateCensus[\"WI Dens\"] = wisconsin\n",
    "\n",
    "# Display DataFrame\n",
    "stateCensus"
   ]
  },
  {
   "cell_type": "code",
   "execution_count": null,
   "metadata": {},
   "outputs": [],
   "source": [
    "# Rearrange columns\n",
    "stateCensus = stateCensus[[\"Year\", \"IA Pop\", \"IA Area\", \"IA Dens\", \"MN Pop\", \"MN Area\", \"MN Dens\", \"ND Pop\", \"ND Area\",\n",
    "                           \"ND Dens\", \"SD Pop\", \"SD Area\", \"SD Dens\", \"WI Pop\", \"WI Area\", \"WI Dens\"]]\n",
    "\n",
    "# Display DataFrame\n",
    "stateCensus"
   ]
  },
  {
   "cell_type": "markdown",
   "metadata": {},
   "source": [
    "### *Merge Mileage/Gas DataFrame with Census DataFrame*"
   ]
  },
  {
   "cell_type": "code",
   "execution_count": null,
   "metadata": {},
   "outputs": [],
   "source": [
    "# Merge DataFrames\n",
    "DataFrame = milesGas.merge(stateCensus, how = \"left\", left_on = \"Year\", right_on = \"Year\", on = None, sort = False,\n",
    "                           copy = True, indicator = False, validate = None)\n",
    "\n",
    "# Display DataFrame\n",
    "DataFrame"
   ]
  },
  {
   "cell_type": "code",
   "execution_count": null,
   "metadata": {},
   "outputs": [],
   "source": [
    "# Print column names\n",
    "for y in DataFrame.columns:\n",
    "    print(y)"
   ]
  },
  {
   "cell_type": "code",
   "execution_count": null,
   "metadata": {},
   "outputs": [],
   "source": [
    "# Rename columns\n",
    "DataFrame = DataFrame.rename(columns = {\"USA VMT\":\"usaVMT\", \"IA VMT\":\"iaVMT\", \"IA Gas\":\"iaGAS\", \"MN VMT\":\"mnVMT\",\n",
    "                                        \"MN Gas\":\"mnGAS\", \"ND VMT\":\"ndVMT\", \"ND Gas\":\"ndGAS\", \"SD VMT\":\"sdVMT\",\n",
    "                                        \"SD Gas\":\"sdGAS\", \"WI VMT\":\"wiVMT\", \"WI Gas\":\"wiGAS\", \"IA Pop\":\"iaPOP\",\n",
    "                                        \"IA Area\":\"iaAREA\", \"IA Dens\":\"iaDENS\", \"MN Pop\":\"mnPOP\", \"MN Area\":\"mnAREA\",\n",
    "                                        \"MN Dens\":\"mnDENS\", \"ND Pop\":\"ndPOP\", \"ND Area\":\"ndAREA\", \"ND Dens\":\"ndDENS\",\n",
    "                                        \"SD Pop\":\"sdPOP\", \"SD Area\":\"sdAREA\", \"SD Dens\":\"sdDENS\", \"WI Pop\":\"wiPOP\",\n",
    "                                        \"WI Area\":\"wiAREA\", \"WI Dens\":\"wiDENS\"})\n",
    "\n",
    "# Display DataFrame\n",
    "DataFrame.head()"
   ]
  },
  {
   "cell_type": "code",
   "execution_count": null,
   "metadata": {},
   "outputs": [],
   "source": [
    "# Print column names\n",
    "for z in DataFrame.columns:\n",
    "    print(z)"
   ]
  },
  {
   "cell_type": "code",
   "execution_count": null,
   "metadata": {},
   "outputs": [],
   "source": [
    "# Nick's Code Begins Here"
   ]
  },
  {
   "cell_type": "code",
   "execution_count": null,
   "metadata": {},
   "outputs": [],
   "source": [
    "# import data on state highs and lows (pre-cleaned csv)\n",
    "temp_df = pd.read_csv('data/state_temp_highs_and_lows.csv')\n",
    "temp_df.head()"
   ]
  },
  {
   "cell_type": "code",
   "execution_count": null,
   "metadata": {},
   "outputs": [],
   "source": [
    "# merge data to main DataFrame\n",
    "DataFrame = pd.merge(DataFrame, temp_df, how = 'left', left_on=['Year'], right_on=['Date'])"
   ]
  },
  {
   "cell_type": "code",
   "execution_count": null,
   "metadata": {},
   "outputs": [],
   "source": [
    "DataFrame = DataFrame.drop(columns = ['Date'])"
   ]
  },
  {
   "cell_type": "code",
   "execution_count": null,
   "metadata": {},
   "outputs": [],
   "source": [
    "# import data on commute information for each state\n",
    "commute_df = pd.read_csv('data/Commute_mode_2000__to_2019_data.csv')"
   ]
  },
  {
   "cell_type": "code",
   "execution_count": null,
   "metadata": {},
   "outputs": [],
   "source": [
    "# filter down df to only midwest states\n",
    "midwest_commute_df = commute_df.loc[(commute_df['State'] == 'Minnesota') | \n",
    "                                   (commute_df['State'] == 'Wisconsin') |\n",
    "                                   (commute_df['State'] == 'North Dakota') |\n",
    "                                   (commute_df['State'] == 'South Dakota') |\n",
    "                                   (commute_df['State'] == 'Iowa')]\n",
    "\n",
    "# filter down df to only 2000 to 2018\n",
    "midwest_commute_df = midwest_commute_df.loc[(midwest_commute_df['Year'] <= 2018) &\n",
    "                                            (midwest_commute_df['Year'] >= 2000)]\n",
    "midwest_commute_df"
   ]
  },
  {
   "cell_type": "code",
   "execution_count": null,
   "metadata": {},
   "outputs": [],
   "source": [
    "#convert state to abbreviated version\n",
    "midwest_commute_df = midwest_commute_df.replace(['Minnesota', 'Iowa', 'North Dakota'\n",
    "                                    ,'South Dakota', 'Wisconsin'], ['mn', 'ia'\n",
    "                                    ,'nd','sd','wi'])"
   ]
  },
  {
   "cell_type": "code",
   "execution_count": null,
   "metadata": {},
   "outputs": [],
   "source": [
    "# create future column names for DataFrame df (called stateMode)\n",
    "midwest_commute_df['stateMode'] = midwest_commute_df['State'] + midwest_commute_df['Mode']\n",
    "\n",
    "# remove spaces from stateMode values\n",
    "midwest_commute_df['stateMode'] = midwest_commute_df['stateMode'].str.replace(\" \",\"\")\n",
    "\n",
    "# remove commas from statemode values\n",
    "midwest_commute_df['stateMode'] = midwest_commute_df['stateMode'].str.replace(\",\",\"\")"
   ]
  },
  {
   "cell_type": "code",
   "execution_count": null,
   "metadata": {},
   "outputs": [],
   "source": [
    "midwest_commute_df_formated = midwest_commute_df.pivot(index='Year', columns='stateMode', values='Commute mode share (percent)')\n",
    "midwest_commute_df_formated"
   ]
  },
  {
   "cell_type": "code",
   "execution_count": null,
   "metadata": {},
   "outputs": [],
   "source": [
    "# merge data to main DataFrame\n",
    "DataFrame = pd.merge(DataFrame, midwest_commute_df_formated, how = 'left', on=['Year'])"
   ]
  },
  {
   "cell_type": "code",
   "execution_count": null,
   "metadata": {},
   "outputs": [],
   "source": [
    "# import data on laws and incentives for each state (pre-cleaned)\n",
    "laws_df = pd.read_csv('data/laws_and_incentives_cleaned.csv')"
   ]
  },
  {
   "cell_type": "code",
   "execution_count": null,
   "metadata": {},
   "outputs": [],
   "source": [
    "DataFrame = pd.merge(DataFrame, laws_df, how = 'left', on=['Year'])"
   ]
  },
  {
   "cell_type": "code",
   "execution_count": null,
   "metadata": {},
   "outputs": [],
   "source": [
    "print(DataFrame.columns)"
   ]
  },
  {
   "cell_type": "code",
   "execution_count": null,
   "metadata": {},
   "outputs": [],
   "source": [
    "# Nick's Code Ends Here"
   ]
  },
  {
   "cell_type": "code",
   "execution_count": null,
   "metadata": {},
   "outputs": [],
   "source": [
    "# Export to CSV\n",
    "DataFrame.to_csv(\"resources/annualData.csv\", index = False, header = True)"
   ]
  },
  {
   "cell_type": "markdown",
   "metadata": {},
   "source": [
    "# GHG Emissions by State, measured in CO2 equivalents (1990-2018)"
   ]
  },
  {
   "cell_type": "code",
   "execution_count": null,
   "metadata": {},
   "outputs": [],
   "source": [
    "# Carbon emissions\n",
    "carbonURL = \"https://www.wri.org/data/climate-watch-historical-emissions-data-countries-us-states-unfccc\"\n",
    "\n",
    "# This is where the data CSV lives locally:\n",
    "carbonFilepath = \"data/climatewatch-usemissions.csv\"\n",
    "\n",
    "print(f\"{carbonFilepath} is {round(os.path.getsize(carbonFilepath)/1024/1024, 2)} megabytes (MB).\\nMore info here:\\n{carbonURL}\")\n",
    "\n",
    "# Read CSV into DataFrame\n",
    "carbon = pd.read_csv(carbonFilepath)\n",
    "\n",
    "# Display DataFrame\n",
    "carbon"
   ]
  },
  {
   "cell_type": "code",
   "execution_count": null,
   "metadata": {},
   "outputs": [],
   "source": [
    "# Create new DataFrame filtered on desired states\n",
    "emissions = carbon[(carbon.State == \"Iowa\") |\n",
    "                   (carbon.State == \"Minnesota\") |\n",
    "                   (carbon.State == \"North Dakota\") |\n",
    "                   (carbon.State == \"South Dakota\") |\n",
    "                   (carbon.State == \"Wisconsin\")]\n",
    "\n",
    "# Reset index in place\n",
    "emissions.reset_index(inplace = True, drop = True)\n",
    "\n",
    "# Display DataFrame\n",
    "emissions"
   ]
  },
  {
   "cell_type": "code",
   "execution_count": null,
   "metadata": {},
   "outputs": [],
   "source": [
    "# Print column names\n",
    "for a in emissions.columns:\n",
    "    print(a)"
   ]
  },
  {
   "cell_type": "code",
   "execution_count": null,
   "metadata": {},
   "outputs": [],
   "source": [
    "# Create new DataFrame with only desired columns\n",
    "carbonEmissions = emissions[[\"Year\", \"State\", \"Transportation (MtCO2e)\"]].copy()\n",
    "\n",
    "# Display DataFrame\n",
    "carbonEmissions.head()"
   ]
  },
  {
   "cell_type": "code",
   "execution_count": null,
   "metadata": {},
   "outputs": [],
   "source": [
    "# Rename column\n",
    "carbonEmissions = carbonEmissions.rename(columns = {\"Transportation (MtCO2e)\":\"Emissions\"})\n",
    "\n",
    "# Display DataFrame\n",
    "carbonEmissions.head()"
   ]
  },
  {
   "cell_type": "code",
   "execution_count": null,
   "metadata": {},
   "outputs": [],
   "source": [
    "# Use pandas pivot function to shift annual values onto single row\n",
    "carbonEmissions = carbonEmissions.pivot(index = \"Year\", columns = \"State\", values = \"Emissions\")\n",
    "\n",
    "# Display DataFrame\n",
    "carbonEmissions"
   ]
  },
  {
   "cell_type": "code",
   "execution_count": null,
   "metadata": {},
   "outputs": [],
   "source": [
    "# Convert index to its own column\n",
    "carbonEmissions[\"Year\"] = carbonEmissions.index\n",
    "\n",
    "# Display DataFrame\n",
    "carbonEmissions.head()"
   ]
  },
  {
   "cell_type": "code",
   "execution_count": null,
   "metadata": {},
   "outputs": [],
   "source": [
    "# Reset index in place\n",
    "carbonEmissions.reset_index(inplace = True, drop = True)\n",
    "\n",
    "# Display DataFrame\n",
    "carbonEmissions"
   ]
  },
  {
   "cell_type": "code",
   "execution_count": null,
   "metadata": {},
   "outputs": [],
   "source": [
    "# Rearrange columns\n",
    "carbonEmissions = carbonEmissions[[\"Year\", \"Iowa\", \"Minnesota\", \"North Dakota\", \"South Dakota\", \"Wisconsin\"]]\n",
    "\n",
    "# Rename columns\n",
    "carbonEmissions = carbonEmissions.rename(columns = {\"Iowa\":\"iaGHG\", \"Minnesota\":\"mnGHG\", \"North Dakota\":\"ndGHG\",\n",
    "                                                    \"South Dakota\":\"sdGHG\", \"Wisconsin\":\"wiGHG\"})\n",
    "\n",
    "# Sort by year\n",
    "carbonEmissions = carbonEmissions.sort_values(\"Year\", ascending = False)\n",
    "\n",
    "# Reset index in place\n",
    "carbonEmissions.reset_index(inplace = True, drop = True)\n",
    "\n",
    "# Display DataFrame\n",
    "carbonEmissions"
   ]
  },
  {
   "cell_type": "code",
   "execution_count": null,
   "metadata": {},
   "outputs": [],
   "source": [
    "# Drop index label\n",
    "carbonEmissions.columns.name = None\n",
    "\n",
    "# Display DataFrame\n",
    "carbonEmissions.head()"
   ]
  },
  {
   "cell_type": "markdown",
   "metadata": {},
   "source": [
    "### *Merge DataFrame with carbonEmissions*"
   ]
  },
  {
   "cell_type": "code",
   "execution_count": null,
   "metadata": {},
   "outputs": [],
   "source": [
    "# Merge DataFrames\n",
    "DataFrame = DataFrame.merge(carbonEmissions, how = \"left\", left_on = \"Year\", right_on = \"Year\")\n",
    "\n",
    "# Display DataFrame\n",
    "DataFrame"
   ]
  },
  {
   "cell_type": "code",
   "execution_count": null,
   "metadata": {},
   "outputs": [],
   "source": [
    "# Print column names\n",
    "for b in DataFrame.columns:\n",
    "    print(b)"
   ]
  },
  {
   "cell_type": "code",
   "execution_count": null,
   "metadata": {},
   "outputs": [],
   "source": [
    "# Export to CSV\n",
    "DataFrame.to_csv(\"resources/annualData.csv\", index = False, header = True)"
   ]
  },
  {
   "cell_type": "markdown",
   "metadata": {},
   "source": [
    "### *Merge DataFrame with EV Market Share Data*"
   ]
  },
  {
   "cell_type": "code",
   "execution_count": null,
   "metadata": {},
   "outputs": [],
   "source": [
    "# Merge DataFrames\n",
    "DataFrame = DataFrame.merge(shareData, how = \"left\", left_on = \"Year\", right_on = \"Year\")\n",
    "\n",
    "# Display DataFrame\n",
    "DataFrame"
   ]
  },
  {
   "cell_type": "code",
   "execution_count": null,
   "metadata": {},
   "outputs": [],
   "source": [
    "# Rename column\n",
    "DataFrame = DataFrame.rename(columns = {\"EV Market Share\":\"evSHARE\"})\n",
    "\n",
    "# Display DataFrame\n",
    "DataFrame"
   ]
  },
  {
   "cell_type": "code",
   "execution_count": null,
   "metadata": {},
   "outputs": [],
   "source": [
    "# Sort by year\n",
    "DataFrame = DataFrame.sort_values(\"Year\", ascending = True)\n",
    "\n",
    "# Reset index in place\n",
    "DataFrame.reset_index(inplace = True, drop = True)\n",
    "\n",
    "# Display DataFrame\n",
    "DataFrame.head()"
   ]
  },
  {
   "cell_type": "code",
   "execution_count": null,
   "metadata": {},
   "outputs": [],
   "source": [
    "# Export to CSV\n",
    "DataFrame.to_csv(\"resources/annualData.csv\", index = False, header = True)"
   ]
  },
  {
   "cell_type": "code",
   "execution_count": null,
   "metadata": {},
   "outputs": [],
   "source": [
    "# Generate regression equation\n",
    "print(\"The linear model is: Y = {:.5} + {:.5}*GDP + {:.5}*Population + {:.5}*Transit + {:.5}*VMT + {:.5}*SQMI + {:.5}*Temp\".format(model.intercept_[0], model.coef_[0][0], model.coef_[0][1], model.coef_[0][2], model.coef_[0][3], model.coef_[0][4], model.coef_[0][5]))"
   ]
  },
  {
   "cell_type": "code",
   "execution_count": null,
   "metadata": {},
   "outputs": [],
   "source": [
    "# Matt's Code Ends Here"
   ]
  }
 ],
 "metadata": {
  "kernelspec": {
   "display_name": "Python 3",
   "language": "python",
   "name": "python3"
  },
  "language_info": {
   "codemirror_mode": {
    "name": "ipython",
    "version": 3
   },
   "file_extension": ".py",
   "mimetype": "text/x-python",
   "name": "python",
   "nbconvert_exporter": "python",
   "pygments_lexer": "ipython3",
   "version": "3.6.10"
  }
 },
 "nbformat": 4,
 "nbformat_minor": 4
}
