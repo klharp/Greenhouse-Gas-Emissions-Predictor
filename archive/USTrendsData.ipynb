{
 "cells": [
  {
   "cell_type": "code",
   "execution_count": null,
   "metadata": {},
   "outputs": [],
   "source": [
    "# Dependencies and setup\n",
    "import numpy as np\n",
    "import os\n",
    "import pandas as pd\n",
    "import warnings\n",
    "warnings.simplefilter(\"ignore\")"
   ]
  },
  {
   "cell_type": "code",
   "execution_count": null,
   "metadata": {},
   "outputs": [],
   "source": [
    "# Read CSV into DataFrame\n",
    "annualData = pd.read_csv(\"resources/annualAllStateData.csv\")\n",
    "\n",
    "# Display DataFrame\n",
    "annualData"
   ]
  },
  {
   "cell_type": "markdown",
   "metadata": {},
   "source": [
    "# GDP"
   ]
  },
  {
   "cell_type": "code",
   "execution_count": null,
   "metadata": {},
   "outputs": [],
   "source": [
    "# Use pandas pivot function to shift annual values onto single row\n",
    "GDP = annualData.pivot(index = \"Year\", columns = \"State\", values = \"State GDP (Million US$ (chained 1997/2005))\")\n",
    "\n",
    "# Display DataFrame\n",
    "GDP.head()"
   ]
  },
  {
   "cell_type": "code",
   "execution_count": null,
   "metadata": {},
   "outputs": [],
   "source": [
    "# Convert index to its own column\n",
    "GDP[\"Year\"] = GDP.index\n",
    "\n",
    "# Display DataFrame\n",
    "GDP.head()"
   ]
  },
  {
   "cell_type": "code",
   "execution_count": null,
   "metadata": {},
   "outputs": [],
   "source": [
    "# Create new DataFrame with only desired columns\n",
    "gdpData = GDP[[\"Year\", \"United States\"]].copy()\n",
    "\n",
    "# Display DataFrame\n",
    "gdpData.head()"
   ]
  },
  {
   "cell_type": "code",
   "execution_count": null,
   "metadata": {},
   "outputs": [],
   "source": [
    "# Reset index in place\n",
    "gdpData.reset_index(inplace = True, drop = True)\n",
    "\n",
    "# Display DataFrame\n",
    "gdpData.head()"
   ]
  },
  {
   "cell_type": "code",
   "execution_count": null,
   "metadata": {},
   "outputs": [],
   "source": [
    "# Drop index label\n",
    "gdpData.columns.name = None\n",
    "\n",
    "# Display DataFrame\n",
    "gdpData.head()"
   ]
  },
  {
   "cell_type": "code",
   "execution_count": null,
   "metadata": {},
   "outputs": [],
   "source": [
    "# Rename column\n",
    "gdpData = gdpData.rename(columns = {\"United States\":\"GDP\"})\n",
    "\n",
    "# Display DataFrame\n",
    "gdpData"
   ]
  },
  {
   "cell_type": "markdown",
   "metadata": {},
   "source": [
    "# Population"
   ]
  },
  {
   "cell_type": "code",
   "execution_count": null,
   "metadata": {},
   "outputs": [],
   "source": [
    "# Use pandas pivot function to shift annual values onto single row\n",
    "pop = annualData.pivot(index = \"Year\", columns = \"State\", values = \"Population (People)\")\n",
    "\n",
    "# Display DataFrame\n",
    "pop.head()"
   ]
  },
  {
   "cell_type": "code",
   "execution_count": null,
   "metadata": {},
   "outputs": [],
   "source": [
    "# Convert index to its own column\n",
    "pop[\"Year\"] = pop.index\n",
    "\n",
    "# Display DataFrame\n",
    "pop.head()"
   ]
  },
  {
   "cell_type": "code",
   "execution_count": null,
   "metadata": {},
   "outputs": [],
   "source": [
    "# Create new DataFrame with only desired columns\n",
    "popData = pop[[\"Year\", \"United States\"]].copy()\n",
    "\n",
    "# Display DataFrame\n",
    "popData.head()"
   ]
  },
  {
   "cell_type": "code",
   "execution_count": null,
   "metadata": {},
   "outputs": [],
   "source": [
    "# Reset index in place\n",
    "popData.reset_index(inplace = True, drop = True)\n",
    "\n",
    "# Display DataFrame\n",
    "popData.head()"
   ]
  },
  {
   "cell_type": "code",
   "execution_count": null,
   "metadata": {},
   "outputs": [],
   "source": [
    "# Drop index label\n",
    "popData.columns.name = None\n",
    "\n",
    "# Display DataFrame\n",
    "popData.head()"
   ]
  },
  {
   "cell_type": "code",
   "execution_count": null,
   "metadata": {},
   "outputs": [],
   "source": [
    "# Rename column\n",
    "popData = popData.rename(columns = {\"United States\":\"Population\"})\n",
    "\n",
    "# Display DataFrame\n",
    "popData"
   ]
  },
  {
   "cell_type": "markdown",
   "metadata": {},
   "source": [
    "# Transit Ridership"
   ]
  },
  {
   "cell_type": "code",
   "execution_count": null,
   "metadata": {},
   "outputs": [],
   "source": [
    "# Use pandas pivot function to shift annual values onto single row\n",
    "bus = annualData.pivot(index = \"Year\", columns = \"State\", values = \"Transit Ridership\")\n",
    "\n",
    "# Display DataFrame\n",
    "bus.head()"
   ]
  },
  {
   "cell_type": "code",
   "execution_count": null,
   "metadata": {},
   "outputs": [],
   "source": [
    "# Convert index to its own column\n",
    "bus[\"Year\"] = bus.index\n",
    "\n",
    "# Display DataFrame\n",
    "bus.head()"
   ]
  },
  {
   "cell_type": "code",
   "execution_count": null,
   "metadata": {},
   "outputs": [],
   "source": [
    "# Create new DataFrame with only desired columns\n",
    "busData = bus[[\"Year\", \"United States\"]].copy()\n",
    "\n",
    "# Display DataFrame\n",
    "busData.head()"
   ]
  },
  {
   "cell_type": "code",
   "execution_count": null,
   "metadata": {},
   "outputs": [],
   "source": [
    "# Reset index in place\n",
    "busData.reset_index(inplace = True, drop = True)\n",
    "\n",
    "# Display DataFrame\n",
    "busData.head()"
   ]
  },
  {
   "cell_type": "code",
   "execution_count": null,
   "metadata": {},
   "outputs": [],
   "source": [
    "# Drop index label\n",
    "busData.columns.name = None\n",
    "\n",
    "# Display DataFrame\n",
    "busData.head()"
   ]
  },
  {
   "cell_type": "code",
   "execution_count": null,
   "metadata": {},
   "outputs": [],
   "source": [
    "# Rename column\n",
    "busData = busData.rename(columns = {\"United States\":\"transitRiders\"})\n",
    "\n",
    "# Display DataFrame\n",
    "busData"
   ]
  },
  {
   "cell_type": "markdown",
   "metadata": {},
   "source": [
    "# VMT"
   ]
  },
  {
   "cell_type": "code",
   "execution_count": null,
   "metadata": {},
   "outputs": [],
   "source": [
    "# Use pandas pivot function to shift annual values onto single row\n",
    "vmt = annualData.pivot(index = \"Year\", columns = \"State\", values = \"Highway vehicle-miles traveled (millions)\")\n",
    "\n",
    "# Display DataFrame\n",
    "vmt.head()"
   ]
  },
  {
   "cell_type": "code",
   "execution_count": null,
   "metadata": {},
   "outputs": [],
   "source": [
    "# Convert index to its own column\n",
    "vmt[\"Year\"] = vmt.index\n",
    "\n",
    "# Display DataFrame\n",
    "vmt.head()"
   ]
  },
  {
   "cell_type": "code",
   "execution_count": null,
   "metadata": {},
   "outputs": [],
   "source": [
    "# Create new DataFrame with only desired columns\n",
    "vmtData = vmt[[\"Year\", \"United States\"]].copy()\n",
    "\n",
    "# Display DataFrame\n",
    "vmtData.head()"
   ]
  },
  {
   "cell_type": "code",
   "execution_count": null,
   "metadata": {},
   "outputs": [],
   "source": [
    "# Reset index in place\n",
    "vmtData.reset_index(inplace = True, drop = True)\n",
    "\n",
    "# Display DataFrame\n",
    "vmtData.head()"
   ]
  },
  {
   "cell_type": "code",
   "execution_count": null,
   "metadata": {},
   "outputs": [],
   "source": [
    "# Drop index label\n",
    "vmtData.columns.name = None\n",
    "\n",
    "# Display DataFrame\n",
    "vmtData.head()"
   ]
  },
  {
   "cell_type": "code",
   "execution_count": null,
   "metadata": {},
   "outputs": [],
   "source": [
    "# Rename column\n",
    "vmtData = vmtData.rename(columns = {\"United States\":\"VMT\"})\n",
    "\n",
    "# Display DataFrame\n",
    "vmtData"
   ]
  },
  {
   "cell_type": "markdown",
   "metadata": {},
   "source": [
    "# Landmass Area"
   ]
  },
  {
   "cell_type": "code",
   "execution_count": null,
   "metadata": {},
   "outputs": [],
   "source": [
    "# Use pandas pivot function to shift annual values onto single row\n",
    "sqmi = annualData.pivot(index = \"Year\", columns = \"State\", values = \"sq mi\")\n",
    "\n",
    "# Display DataFrame\n",
    "sqmi.head()"
   ]
  },
  {
   "cell_type": "code",
   "execution_count": null,
   "metadata": {},
   "outputs": [],
   "source": [
    "# Convert index to its own column\n",
    "sqmi[\"Year\"] = sqmi.index\n",
    "\n",
    "# Display DataFrame\n",
    "sqmi.head()"
   ]
  },
  {
   "cell_type": "code",
   "execution_count": null,
   "metadata": {},
   "outputs": [],
   "source": [
    "# Create new DataFrame with only desired columns\n",
    "sqmiData = sqmi[[\"Year\", \"United States\"]].copy()\n",
    "\n",
    "# Display DataFrame\n",
    "sqmiData.head()"
   ]
  },
  {
   "cell_type": "code",
   "execution_count": null,
   "metadata": {},
   "outputs": [],
   "source": [
    "# Reset index in place\n",
    "sqmiData.reset_index(inplace = True, drop = True)\n",
    "\n",
    "# Display DataFrame\n",
    "sqmiData.head()"
   ]
  },
  {
   "cell_type": "code",
   "execution_count": null,
   "metadata": {},
   "outputs": [],
   "source": [
    "# Drop index label\n",
    "sqmiData.columns.name = None\n",
    "\n",
    "# Display DataFrame\n",
    "sqmiData.head()"
   ]
  },
  {
   "cell_type": "code",
   "execution_count": null,
   "metadata": {},
   "outputs": [],
   "source": [
    "# Rename column\n",
    "sqmiData = sqmiData.rename(columns = {\"United States\":\"SQMI\"})\n",
    "\n",
    "# Display DataFrame\n",
    "sqmiData"
   ]
  },
  {
   "cell_type": "markdown",
   "metadata": {},
   "source": [
    "# Temperatures"
   ]
  },
  {
   "cell_type": "code",
   "execution_count": null,
   "metadata": {},
   "outputs": [],
   "source": [
    "# Use pandas pivot function to shift annual values onto single row\n",
    "temps = annualData.pivot(index = \"Year\", columns = \"State\", values = \"tempHigh\")\n",
    "\n",
    "# Display DataFrame\n",
    "temps.head()"
   ]
  },
  {
   "cell_type": "code",
   "execution_count": null,
   "metadata": {},
   "outputs": [],
   "source": [
    "# Convert index to its own column\n",
    "temps[\"Year\"] = temps.index\n",
    "\n",
    "# Display DataFrame\n",
    "temps.head()"
   ]
  },
  {
   "cell_type": "code",
   "execution_count": null,
   "metadata": {},
   "outputs": [],
   "source": [
    "# Create new DataFrame with only desired columns\n",
    "tempsData = temps[[\"Year\", \"United States\"]].copy()\n",
    "\n",
    "# Display DataFrame\n",
    "tempsData.head()"
   ]
  },
  {
   "cell_type": "code",
   "execution_count": null,
   "metadata": {},
   "outputs": [],
   "source": [
    "# Reset index in place\n",
    "tempsData.reset_index(inplace = True, drop = True)\n",
    "\n",
    "# Display DataFrame\n",
    "tempsData.head()"
   ]
  },
  {
   "cell_type": "code",
   "execution_count": null,
   "metadata": {},
   "outputs": [],
   "source": [
    "# Drop index label\n",
    "tempsData.columns.name = None\n",
    "\n",
    "# Display DataFrame\n",
    "tempsData.head()"
   ]
  },
  {
   "cell_type": "code",
   "execution_count": null,
   "metadata": {},
   "outputs": [],
   "source": [
    "# Rename column\n",
    "tempsData = tempsData.rename(columns = {\"United States\":\"Temps\"})\n",
    "\n",
    "# Display DataFrame\n",
    "tempsData"
   ]
  },
  {
   "cell_type": "markdown",
   "metadata": {},
   "source": [
    "# GHG Emissions"
   ]
  },
  {
   "cell_type": "code",
   "execution_count": null,
   "metadata": {},
   "outputs": [],
   "source": [
    "# Use pandas pivot function to shift annual values onto single row\n",
    "ghg = annualData.pivot(index = \"Year\", columns = \"State\", values = \"Transportation (MtCO2e)\")\n",
    "\n",
    "# Display DataFrame\n",
    "ghg.head()"
   ]
  },
  {
   "cell_type": "code",
   "execution_count": null,
   "metadata": {},
   "outputs": [],
   "source": [
    "# Convert index to its own column\n",
    "ghg[\"Year\"] = ghg.index\n",
    "\n",
    "# Display DataFrame\n",
    "ghg.head()"
   ]
  },
  {
   "cell_type": "code",
   "execution_count": null,
   "metadata": {},
   "outputs": [],
   "source": [
    "# Create new DataFrame with only desired columns\n",
    "ghgData = ghg[[\"Year\", \"United States\"]].copy()\n",
    "\n",
    "# Display DataFrame\n",
    "ghgData.head()"
   ]
  },
  {
   "cell_type": "code",
   "execution_count": null,
   "metadata": {},
   "outputs": [],
   "source": [
    "# Reset index in place\n",
    "ghgData.reset_index(inplace = True, drop = True)\n",
    "\n",
    "# Display DataFrame\n",
    "ghgData.head()"
   ]
  },
  {
   "cell_type": "code",
   "execution_count": null,
   "metadata": {},
   "outputs": [],
   "source": [
    "# Drop index label\n",
    "ghgData.columns.name = None\n",
    "\n",
    "# Display DataFrame\n",
    "ghgData.head()"
   ]
  },
  {
   "cell_type": "code",
   "execution_count": null,
   "metadata": {},
   "outputs": [],
   "source": [
    "# Rename column\n",
    "ghgData = ghgData.rename(columns = {\"United States\":\"Emissions\"})\n",
    "\n",
    "# Display DataFrame\n",
    "ghgData"
   ]
  },
  {
   "cell_type": "markdown",
   "metadata": {},
   "source": [
    "# Merge all DataFrames"
   ]
  },
  {
   "cell_type": "code",
   "execution_count": null,
   "metadata": {},
   "outputs": [],
   "source": [
    "# Merge DataFrames\n",
    "trendData = pd.merge(gdpData, popData, how = \"left\", left_on = \"Year\", right_on = \"Year\")\n",
    "\n",
    "# Display DataFrame\n",
    "trendData.head()"
   ]
  },
  {
   "cell_type": "code",
   "execution_count": null,
   "metadata": {},
   "outputs": [],
   "source": [
    "# Merge DataFrames\n",
    "trendData = trendData.merge(busData, how = \"left\", left_on = \"Year\", right_on = \"Year\")\n",
    "\n",
    "# Display DataFrame\n",
    "trendData.head()"
   ]
  },
  {
   "cell_type": "code",
   "execution_count": null,
   "metadata": {},
   "outputs": [],
   "source": [
    "# Merge DataFrames\n",
    "trendData = trendData.merge(vmtData, how = \"left\", left_on = \"Year\", right_on = \"Year\")\n",
    "\n",
    "# Display DataFrame\n",
    "trendData.head()"
   ]
  },
  {
   "cell_type": "code",
   "execution_count": null,
   "metadata": {},
   "outputs": [],
   "source": [
    "# Merge DataFrames\n",
    "trendData = trendData.merge(sqmiData, how = \"left\", left_on = \"Year\", right_on = \"Year\")\n",
    "\n",
    "# Display DataFrame\n",
    "trendData.head()"
   ]
  },
  {
   "cell_type": "code",
   "execution_count": null,
   "metadata": {},
   "outputs": [],
   "source": [
    "# Merge DataFrames\n",
    "trendData = trendData.merge(tempsData, how = \"left\", left_on = \"Year\", right_on = \"Year\")\n",
    "\n",
    "# Display DataFrame\n",
    "trendData.head()"
   ]
  },
  {
   "cell_type": "code",
   "execution_count": null,
   "metadata": {},
   "outputs": [],
   "source": [
    "# Merge DataFrames\n",
    "trendData = trendData.merge(ghgData, how = \"left\", left_on = \"Year\", right_on = \"Year\")\n",
    "\n",
    "# Display DataFrame\n",
    "trendData"
   ]
  },
  {
   "cell_type": "code",
   "execution_count": null,
   "metadata": {},
   "outputs": [],
   "source": [
    "# Drop duplicate column\n",
    "trendData = trendData.drop(columns = [\"Emissions_y\"])\n",
    "\n",
    "# Rename column\n",
    "trendData = trendData.rename(columns = {\"Emissions_x\":\"actualGHG\"})\n",
    "\n",
    "# Display DataFrame\n",
    "trendData"
   ]
  },
  {
   "cell_type": "code",
   "execution_count": null,
   "metadata": {},
   "outputs": [],
   "source": [
    "# Export to CSV\n",
    "trendData.to_csv(\"resources/trendData.csv\", index = False, header = True)"
   ]
  },
  {
   "cell_type": "markdown",
   "metadata": {},
   "source": [
    "# Scale Forecasted X Values"
   ]
  },
  {
   "cell_type": "code",
   "execution_count": null,
   "metadata": {},
   "outputs": [],
   "source": [
    "# Read forecasted CSV into DataFrame\n",
    "scaledData = pd.read_csv(\"resources/trendDataForecasts.csv\")\n",
    "\n",
    "# Display DataFrame\n",
    "scaledData"
   ]
  },
  {
   "cell_type": "code",
   "execution_count": null,
   "metadata": {},
   "outputs": [],
   "source": [
    "# Declare X values\n",
    "X = scaledData.drop(columns = [\"actualGHG\"])\n",
    "\n",
    "# Display DataFrame\n",
    "X.head()"
   ]
  },
  {
   "cell_type": "code",
   "execution_count": null,
   "metadata": {},
   "outputs": [],
   "source": [
    "# Set year as index\n",
    "X.set_index(\"Year\", inplace = True, drop = True)\n",
    "\n",
    "# Display DataFrame\n",
    "X.head()"
   ]
  },
  {
   "cell_type": "code",
   "execution_count": null,
   "metadata": {},
   "outputs": [],
   "source": [
    "# Dependencies and setup\n",
    "from sklearn.preprocessing import StandardScaler\n",
    "\n",
    "# Scale data\n",
    "# scaledX = StandardScaler().fit(X)\n",
    "X_scaled = scaledX.transform(X)"
   ]
  },
  {
   "cell_type": "code",
   "execution_count": null,
   "metadata": {},
   "outputs": [],
   "source": [
    "# Display array of scaled values\n",
    "X_scaled"
   ]
  },
  {
   "cell_type": "code",
   "execution_count": null,
   "metadata": {},
   "outputs": [],
   "source": [
    "# Create DataFrame from array of scaled values\n",
    "scaledValues = pd.DataFrame(data = X_scaled, columns = [\"GDP\", \"Population\", \"Transit\", \"VMT\", \"SQMI\", \"Temps\"])\n",
    "\n",
    "# Display DataFrame\n",
    "scaledValues.head()"
   ]
  },
  {
   "cell_type": "code",
   "execution_count": null,
   "metadata": {},
   "outputs": [],
   "source": [
    "# Create column of GHG using equation from model\n",
    "GHGchange = 38.875 + (-1.1205970612499048 * scaledValues[\"GDP\"]) + (36.597160761709446 * scaledValues[\"Population\"]) + (-6.6564653139231 * scaledValues[\"Transit\"]) + (6.304683336038949 * scaledValues[\"VMT\"]) + (4.465561144005419 * scaledValues[\"SQMI\"]) + (3.1101727484010664 * scaledValues[\"Temps\"])\n",
    "\n",
    "# Add new columns\n",
    "scaledValues[\"actualGHG\"] = scaledData[\"actualGHG\"]\n",
    "scaledValues[\"Year\"] = scaledData[\"Year\"]\n",
    "scaledValues[\"GHGchange\"] = GHGchange\n",
    "\n",
    "# Display DataFrame\n",
    "scaledValues.head()"
   ]
  },
  {
   "cell_type": "code",
   "execution_count": null,
   "metadata": {},
   "outputs": [],
   "source": [
    "# Reorganize columns\n",
    "scaledValues = scaledValues[[\"Year\", \"GDP\", \"Population\", \"Transit\", \"VMT\", \"SQMI\", \"Temps\", \"actualGHG\", \"GHGchange\"]]\n",
    "\n",
    "# Display DataFrame\n",
    "scaledValues.head()"
   ]
  },
  {
   "cell_type": "code",
   "execution_count": null,
   "metadata": {},
   "outputs": [],
   "source": [
    "# # Calculate new annual GHG values\n",
    "# modelGHG = scaledValues[\"actualGHG\"] + scaledValues[\"GHGchange\"]\n",
    "\n",
    "# # Add new column with predictions\n",
    "# scaledValues[\"modelGHG\"] = modelGHG\n",
    "\n",
    "# # Display DataFrame\n",
    "# scaledValues.head()"
   ]
  },
  {
   "cell_type": "code",
   "execution_count": null,
   "metadata": {},
   "outputs": [],
   "source": [
    "# Loop through rows to calculate and append values\n",
    "for row in range(25, 57):\n",
    "    scaledValues.loc[row, \"modelGHG\"] = scaledValues.loc[row - 1, \"modelGHG\"] + scaledValues.loc[row, \"GHGchange\"]\n",
    "    \n",
    "# Display DataFrame\n",
    "scaledValues"
   ]
  },
  {
   "cell_type": "code",
   "execution_count": null,
   "metadata": {},
   "outputs": [],
   "source": [
    "# Create new DataFrame with desired columns\n",
    "scaledFinal = scaledValues[[\"Year\", \"modelGHG\"]].copy()\n",
    "\n",
    "# Display DataFrame\n",
    "scaledFinal.head()"
   ]
  },
  {
   "cell_type": "code",
   "execution_count": null,
   "metadata": {},
   "outputs": [],
   "source": [
    "# Create new DataFrame with desired columns\n",
    "originalDF = trendData[[\"Year\", \"GDP\", \"Population\", \"transitRiders\", \"VMT\", \"SQMI\", \"Temps\", \"actualGHG\"]].copy()\n",
    "\n",
    "# Display DataFrame\n",
    "originalDF.head()"
   ]
  },
  {
   "cell_type": "code",
   "execution_count": null,
   "metadata": {},
   "outputs": [],
   "source": [
    "# Merge DataFrames\n",
    "scaledFinal = scaledFinal.merge(originalDF, how = \"left\", left_on = \"Year\", right_on = \"Year\")\n",
    "\n",
    "# Display DataFrame\n",
    "scaledFinal.head()"
   ]
  },
  {
   "cell_type": "code",
   "execution_count": null,
   "metadata": {},
   "outputs": [],
   "source": [
    "# Reorganize columns\n",
    "scaledFinal = scaledFinal[[\"Year\", \"GDP\", \"Population\", \"transitRiders\", \"VMT\", \"SQMI\", \"Temps\", \"actualGHG\", \"modelGHG\"]]\n",
    "\n",
    "# Display DataFrame\n",
    "scaledFinal.head()"
   ]
  },
  {
   "cell_type": "code",
   "execution_count": null,
   "metadata": {},
   "outputs": [],
   "source": [
    "# Rename column\n",
    "scaledFinal = scaledFinal.rename(columns = {\"transitRiders\":\"Transit\"})\n",
    "\n",
    "# Display DataFrame\n",
    "scaledFinal"
   ]
  },
  {
   "cell_type": "code",
   "execution_count": null,
   "metadata": {},
   "outputs": [],
   "source": [
    "# Export to CSV\n",
    "scaledFinal.to_csv(\"resources/scaledFinal.csv\", index = False, header = True)"
   ]
  },
  {
   "cell_type": "code",
   "execution_count": null,
   "metadata": {},
   "outputs": [],
   "source": []
  }
 ],
 "metadata": {
  "kernelspec": {
   "display_name": "Python 3",
   "language": "python",
   "name": "python3"
  },
  "language_info": {
   "codemirror_mode": {
    "name": "ipython",
    "version": 3
   },
   "file_extension": ".py",
   "mimetype": "text/x-python",
   "name": "python",
   "nbconvert_exporter": "python",
   "pygments_lexer": "ipython3",
   "version": "3.6.10"
  }
 },
 "nbformat": 4,
 "nbformat_minor": 4
}
