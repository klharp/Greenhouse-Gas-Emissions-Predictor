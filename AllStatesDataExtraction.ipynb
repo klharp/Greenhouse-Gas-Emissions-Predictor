{
 "cells": [
  {
   "cell_type": "code",
   "execution_count": null,
   "metadata": {},
   "outputs": [],
   "source": [
    "import pandas as pd\n",
    "import os\n",
    "import requests\n",
    "from bs4 import BeautifulSoup\n",
    "from webdriver_manager.chrome import ChromeDriverManager"
   ]
  },
  {
   "cell_type": "markdown",
   "metadata": {},
   "source": [
    "## Emissions, Population, GDP"
   ]
  },
  {
   "cell_type": "code",
   "execution_count": null,
   "metadata": {},
   "outputs": [],
   "source": [
    "# import target, pop, and gdp data per state\n",
    "y_df = pd.read_csv('data/climatewatch-usemissions.csv', usecols=['State', 'Year', 'Population (People)','State GDP (Million US$ (chained 1997/2005))','Transportation (MtCO2e)'])\n",
    "y_df.head()"
   ]
  },
  {
   "cell_type": "code",
   "execution_count": null,
   "metadata": {},
   "outputs": [],
   "source": [
    "y_df.count()"
   ]
  },
  {
   "cell_type": "markdown",
   "metadata": {},
   "source": [
    "## Transit Ridership, Gasoline Usage, Vehicle Miles Traveled (VMT), Vehicles"
   ]
  },
  {
   "cell_type": "code",
   "execution_count": null,
   "metadata": {},
   "outputs": [],
   "source": [
    "# import gas usage, transit ridership, vehicle miles traveled, and vehicle data per state\n",
    "transit_df = pd.read_csv('data/transportation_usage.csv', encoding = 'utf-16', sep='\\t')\n",
    "transit_df.head()"
   ]
  },
  {
   "cell_type": "code",
   "execution_count": null,
   "metadata": {},
   "outputs": [],
   "source": [
    "### Create a column for each measure in transit_df['Measures'] and assign the appropriate values\n",
    "# Grab measure names\n",
    "measures_list = transit_df['Measures'].unique()\n",
    "\n",
    "# Limit list of measure names to gas usage, transit ridership, vehicle miles traveled, and vehicle data\n",
    "measures_list = measures_list[0:4]\n",
    "\n",
    "# Create initial dataframe based on transit ridership per state and per year\n",
    "to_merge_df = transit_df.loc[transit_df['Measures']==measures_list[0]]\n",
    "new_column_name = to_merge_df.iloc[0]['Measures']\n",
    "to_merge_df.columns=['State', 'Measures', 'Year', new_column_name]\n",
    "to_merge_df = to_merge_df.drop(columns=['Measures'])\n",
    "transit_measures_df = to_merge_df\n",
    "\n",
    "# Merge additional measures (gas usage, vehicle miles traveled, and vehicle data)\n",
    "for column in measures_list[1:4]:\n",
    "    to_merge_df = transit_df.loc[transit_df['Measures']== column]\n",
    "    new_column_name = to_merge_df.iloc[0]['Measures']\n",
    "    to_merge_df.columns=['State', 'Measures', 'Year', new_column_name]\n",
    "    to_merge_df = to_merge_df.drop(columns=['Measures'])\n",
    "    transit_measures_df = transit_measures_df.merge(to_merge_df, how = 'left', on = ['State', 'Year'])\n",
    "transit_measures_df.head()"
   ]
  },
  {
   "cell_type": "code",
   "execution_count": null,
   "metadata": {},
   "outputs": [],
   "source": [
    "# Remove null values (post csv exploration)\n",
    "transit_measures_df = transit_measures_df.loc[transit_measures_df['Year'] >= 1994]\n",
    "transit_measures_df = transit_measures_df.loc[transit_measures_df['State'] != 'Puerto Rico']\n",
    "transit_measures_df.count()"
   ]
  },
  {
   "cell_type": "code",
   "execution_count": null,
   "metadata": {},
   "outputs": [],
   "source": [
    "# merge y_df and transit_measures_df\n",
    "final_df = y_df.merge(transit_measures_df, on = ['State', 'Year'])\n",
    "final_df.head()"
   ]
  },
  {
   "cell_type": "code",
   "execution_count": null,
   "metadata": {},
   "outputs": [],
   "source": [
    "final_df.count()"
   ]
  },
  {
   "cell_type": "markdown",
   "metadata": {},
   "source": [
    "## Land Area (sq mi)"
   ]
  },
  {
   "cell_type": "code",
   "execution_count": null,
   "metadata": {},
   "outputs": [],
   "source": [
    "# Scrape land area (in sq mi) from:\n",
    "# https://en.wikipedia.org/wiki/List_of_U.S._states_and_territories_by_area\n",
    "wikiurl = 'https://en.wikipedia.org/wiki/List_of_U.S._states_and_territories_by_area#cite_note-2010census-2'\n",
    "\n",
    "# Check response code to ensure ability to download\n",
    "table_class=\"wikitable sortable jquery-tablesorter\"\n",
    "response=requests.get(wikiurl)\n",
    "print(response.status_code)"
   ]
  },
  {
   "cell_type": "code",
   "execution_count": null,
   "metadata": {},
   "outputs": [],
   "source": [
    "# parse data from the html into a beautifulsoup object\n",
    "soup = BeautifulSoup(response.text, 'html.parser')\n",
    "indiatable = soup.find('table',{'class':\"wikitable\"})\n",
    "wiki_area_df = pd.read_html(str(indiatable))\n",
    "\n",
    "# convert list to dataframe\n",
    "wiki_area_df = pd.DataFrame(wiki_area_df[0])\n",
    "\n",
    "# Drop unwanted level\n",
    "wiki_area_df.columns = wiki_area_df.columns.droplevel(level=0)\n",
    "wiki_area_df.head()\n",
    "\n",
    "# Grab desired column (sq mi in index 5)\n",
    "area_df = wiki_area_df.iloc[:, [0,5]]\n",
    "area_df.head()"
   ]
  },
  {
   "cell_type": "code",
   "execution_count": null,
   "metadata": {},
   "outputs": [],
   "source": [
    "# manually add a value for sq mi total for US\n",
    "us_df = wiki_area_df.loc[wiki_area_df['State']=='50 states and District of Columbia']\n",
    "us_sqmi_df = us_df.iloc[[0], [0, 5]]\n",
    "us_sqmi_df['State'] = us_sqmi_df['State'].replace({'50 states and District of Columbia': 'United States'})\n",
    "area_df = area_df.append(us_sqmi_df)\n",
    "area_df"
   ]
  },
  {
   "cell_type": "code",
   "execution_count": null,
   "metadata": {},
   "outputs": [],
   "source": [
    "final_df = final_df.merge(area_df, how='left', on = ['State'])\n",
    "final_df"
   ]
  },
  {
   "cell_type": "markdown",
   "metadata": {},
   "source": [
    "## Annual Temperature Highs"
   ]
  },
  {
   "cell_type": "code",
   "execution_count": null,
   "metadata": {},
   "outputs": [],
   "source": [
    "# Grab maxTemp data from https://www.ncdc.noaa.gov/cag/ for each state\n",
    "# Hawaii is notably omitted\n",
    "# Citation: NOAA National Centers for Environmental information, Climate at a Glance: Statewide Time Series, published June 2021, retrieved on June 14, 2021\n",
    "\n",
    "# Create dataframe to store values for all 50 states (except Hawaii)\n",
    "ncdc_temp_df = pd.DataFrame(columns=['Year', 'tempHigh', 'State'])\n",
    "for i in range(50):\n",
    "    if i == 48:\n",
    "        continue\n",
    "    state_num = str(i+1)\n",
    "    ncdc_url = 'https://www.ncdc.noaa.gov/cag/statewide/time-series/'+state_num+'-tmax-12-12-1990-2018.json?base_prd=true&begbaseyear=1925&endbaseyear=2000'\n",
    "    response = requests.get(ncdc_url).json()\n",
    "\n",
    "    # Get state name\n",
    "    data_title = response['description']['title']\n",
    "    state_name = data_title.split(',',1)[0]\n",
    "\n",
    "    # Rename columns to year values (omitting '12' from end)\n",
    "    ncdc_temp = pd.DataFrame(response['data'])\n",
    "    ncdc_temp.columns = ncdc_temp.columns.str[0:4]\n",
    "\n",
    "    # Convert to same row/column format as final_df\n",
    "    ncdc_temp = ncdc_temp.transpose()\n",
    "\n",
    "    # Remove anomoly and create new state column\n",
    "    ncdc_temp = ncdc_temp.drop(columns='anomaly')\n",
    "    ncdc_temp['State'] = state_name\n",
    "\n",
    "    # Reset index and set new Year column to int instead of object\n",
    "    ncdc_temp = ncdc_temp.reset_index()\n",
    "    ncdc_temp = ncdc_temp.rename(columns={'index':'Year','value':'tempHigh'})\n",
    "    ncdc_temp['Year'] = ncdc_temp['Year'].astype(int)\n",
    "    ncdc_temp_df = ncdc_temp_df.append(ncdc_temp)"
   ]
  },
  {
   "cell_type": "code",
   "execution_count": null,
   "metadata": {},
   "outputs": [],
   "source": [
    "# Grab national data\n",
    "ncdc_url = 'https://www.ncdc.noaa.gov/cag/national/time-series/110-tmax-12-12-1990-2018.json?base_prd=true&begbaseyear=1925&endbaseyear=2000'\n",
    "response = requests.get(ncdc_url).json()\n",
    "\n",
    "# Get state name\n",
    "state_name = 'United States'\n",
    "\n",
    "# Rename columns to year values (omitting '12' from end)\n",
    "ncdc_temp = pd.DataFrame(response['data'])\n",
    "ncdc_temp.columns = ncdc_temp.columns.str[0:4]\n",
    "\n",
    "# Convert to same row/column format as final_df\n",
    "ncdc_temp = ncdc_temp.transpose()\n",
    "\n",
    "# Remove anomoly and create new state column\n",
    "ncdc_temp = ncdc_temp.drop(columns='anomaly')\n",
    "ncdc_temp['State'] = state_name\n",
    "\n",
    "# Reset index and set new Year column to int instead of object\n",
    "ncdc_temp = ncdc_temp.reset_index()\n",
    "ncdc_temp = ncdc_temp.rename(columns={'index':'Year','value':'tempHigh'})\n",
    "ncdc_temp['Year'] = ncdc_temp['Year'].astype(int)\n",
    "ncdc_temp_df = ncdc_temp_df.append(ncdc_temp)"
   ]
  },
  {
   "cell_type": "code",
   "execution_count": null,
   "metadata": {},
   "outputs": [],
   "source": [
    "final_df = final_df.merge(ncdc_temp_df, how='left', on = ['State', 'Year'])\n",
    "final_df"
   ]
  },
  {
   "cell_type": "code",
   "execution_count": null,
   "metadata": {},
   "outputs": [],
   "source": [
    "# Export to CSV\n",
    "final_df.to_csv(\"resources/annualAllStateData.csv\", index = False, header = True)"
   ]
  },
  {
   "cell_type": "markdown",
   "metadata": {},
   "source": [
    "## Number of Alternative Fueling Stations"
   ]
  },
  {
   "cell_type": "code",
   "execution_count": null,
   "metadata": {},
   "outputs": [],
   "source": [
    "fuel_df = pd.read_csv('data/altFuelStations.csv', usecols=['Fuel Type Code', 'State', 'Open Date'])\n",
    "fuel_df.head()"
   ]
  },
  {
   "cell_type": "code",
   "execution_count": null,
   "metadata": {},
   "outputs": [],
   "source": [
    "# Convert Open Date to Year\n",
    "fuel_df['Open Date'] = fuel_df['Open Date'].str[:4]\n",
    "\n",
    "# Drop null values\n",
    "fuel_df = fuel_df.dropna()\n",
    "\n",
    "# Replace state abbreviations with full names\n",
    "states = {\n",
    "        'AK': 'Alaska',\n",
    "        'AL': 'Alabama',\n",
    "        'AR': 'Arkansas',\n",
    "        'AS': 'American Samoa',\n",
    "        'AZ': 'Arizona',\n",
    "        'CA': 'California',\n",
    "        'CO': 'Colorado',\n",
    "        'CT': 'Connecticut',\n",
    "        'DC': 'District of Columbia',\n",
    "        'DE': 'Delaware',\n",
    "        'FL': 'Florida',\n",
    "        'GA': 'Georgia',\n",
    "        'GU': 'Guam',\n",
    "        'HI': 'Hawaii',\n",
    "        'IA': 'Iowa',\n",
    "        'ID': 'Idaho',\n",
    "        'IL': 'Illinois',\n",
    "        'IN': 'Indiana',\n",
    "        'KS': 'Kansas',\n",
    "        'KY': 'Kentucky',\n",
    "        'LA': 'Louisiana',\n",
    "        'MA': 'Massachusetts',\n",
    "        'MD': 'Maryland',\n",
    "        'ME': 'Maine',\n",
    "        'MI': 'Michigan',\n",
    "        'MN': 'Minnesota',\n",
    "        'MO': 'Missouri',\n",
    "        'MP': 'Northern Mariana Islands',\n",
    "        'MS': 'Mississippi',\n",
    "        'MT': 'Montana',\n",
    "        'NA': 'National',\n",
    "        'NC': 'North Carolina',\n",
    "        'ND': 'North Dakota',\n",
    "        'NE': 'Nebraska',\n",
    "        'NH': 'New Hampshire',\n",
    "        'NJ': 'New Jersey',\n",
    "        'NM': 'New Mexico',\n",
    "        'NV': 'Nevada',\n",
    "        'NY': 'New York',\n",
    "        'OH': 'Ohio',\n",
    "        'OK': 'Oklahoma',\n",
    "        'OR': 'Oregon',\n",
    "        'PA': 'Pennsylvania',\n",
    "        'PR': 'Puerto Rico',\n",
    "        'RI': 'Rhode Island',\n",
    "        'SC': 'South Carolina',\n",
    "        'SD': 'South Dakota',\n",
    "        'TN': 'Tennessee',\n",
    "        'TX': 'Texas',\n",
    "        'UT': 'Utah',\n",
    "        'VA': 'Virginia',\n",
    "        'VI': 'Virgin Islands',\n",
    "        'VT': 'Vermont',\n",
    "        'WA': 'Washington',\n",
    "        'WI': 'Wisconsin',\n",
    "        'WV': 'West Virginia',\n",
    "        'WY': 'Wyoming'\n",
    "}\n",
    "\n",
    "fuel_df['State'].replace(states, inplace=True)"
   ]
  },
  {
   "cell_type": "code",
   "execution_count": null,
   "metadata": {},
   "outputs": [],
   "source": [
    "# Group by state and year to get counts of stations per state per year\n",
    "fuel_df['stateYear'] = fuel_df['State'] + fuel_df['Open Date']\n",
    "fuel_df\n",
    "fuel_df_counts = fuel_df.groupby(['stateYear'])\n",
    "fuel_df_counts = fuel_df_counts.count()\n",
    "fuel_df_counts = fuel_df_counts.reset_index()\n",
    "fuel_df_counts"
   ]
  },
  {
   "cell_type": "code",
   "execution_count": null,
   "metadata": {},
   "outputs": [],
   "source": [
    "# Unpack state and year columns\n",
    "fuel_df_counts['Year'] = fuel_df_counts['stateYear'].str[-4:]\n",
    "fuel_df_counts['State'] = fuel_df_counts['stateYear'].str[:-4]"
   ]
  },
  {
   "cell_type": "code",
   "execution_count": null,
   "metadata": {},
   "outputs": [],
   "source": [
    "# Create final counts dataframe for merge to final_df\n",
    "fuel_df_counts_final = fuel_df_counts[['State', 'Year', 'Open Date']]\n",
    "fuel_df_counts_final = fuel_df_counts_final.rename(columns={'Open Date':'altFuelStations'})\n",
    "fuel_df_counts_final"
   ]
  },
  {
   "cell_type": "code",
   "execution_count": null,
   "metadata": {},
   "outputs": [],
   "source": [
    "type(fuel_df_counts_final['State'])"
   ]
  },
  {
   "cell_type": "code",
   "execution_count": null,
   "metadata": {},
   "outputs": [],
   "source": [
    "test_df = final_df.merge(fuel_df_counts_final, how='left', on = ['State', 'Year'])\n",
    "test_df"
   ]
  },
  {
   "cell_type": "code",
   "execution_count": null,
   "metadata": {},
   "outputs": [],
   "source": [
    "#final_df.count()"
   ]
  },
  {
   "cell_type": "code",
   "execution_count": null,
   "metadata": {},
   "outputs": [],
   "source": []
  }
 ],
 "metadata": {
  "kernelspec": {
   "display_name": "Python 3",
   "language": "python",
   "name": "python3"
  },
  "language_info": {
   "codemirror_mode": {
    "name": "ipython",
    "version": 3
   },
   "file_extension": ".py",
   "mimetype": "text/x-python",
   "name": "python",
   "nbconvert_exporter": "python",
   "pygments_lexer": "ipython3",
   "version": "3.6.10"
  }
 },
 "nbformat": 4,
 "nbformat_minor": 4
}
